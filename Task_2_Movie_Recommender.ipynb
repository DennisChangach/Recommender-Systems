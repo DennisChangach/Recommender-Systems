{
  "nbformat": 4,
  "nbformat_minor": 0,
  "metadata": {
    "colab": {
      "name": "Task_2_Movie_Recommender.ipynb",
      "provenance": [],
      "authorship_tag": "ABX9TyPWtGhgxNpfihBcLVyRLDeI",
      "include_colab_link": true
    },
    "kernelspec": {
      "name": "python3",
      "display_name": "Python 3"
    }
  },
  "cells": [
    {
      "cell_type": "markdown",
      "metadata": {
        "id": "view-in-github",
        "colab_type": "text"
      },
      "source": [
        "<a href=\"https://colab.research.google.com/github/DennisChangach/Recommender-Systems/blob/main/Task_2_Movie_Recommender.ipynb\" target=\"_parent\"><img src=\"https://colab.research.google.com/assets/colab-badge.svg\" alt=\"Open In Colab\"/></a>"
      ]
    },
    {
      "cell_type": "markdown",
      "metadata": {
        "id": "67DFpX_TuDnc"
      },
      "source": [
        "# Building a Movie Recommender System\n",
        "\n",
        "Recommendation systems have a strong influence on our decisions. Recommendation systems are  a type of information filtering systems as they improve the quality of search results and provides items that are more relevant to the search item or related to the search history of the user.\n",
        "\n",
        "They are used to predict the rating or preference that a user would give to an item. Companies like Netfix depend highly on the effectiveness of their recommendation engines to drive business value.\n",
        "\n",
        "This notebook will be using the MovieLens dataset to build a movie recommendation system."
      ]
    },
    {
      "cell_type": "markdown",
      "metadata": {
        "id": "PKPj92ST96mh"
      },
      "source": [
        "**The main types of recommender systems are:**\n",
        "\n",
        "1. Content Based Filtering: They suggest similar items based on a particular item. This system uses item metadata, such as genre, director, description, actors, etc. for movies, to make these recommendations. The general idea behind these recommender systems is that if a person liked a particular item, he or she will also like an item that is similar to it.\n",
        "\n",
        "2. Collaborative Filtering: This system matches persons with similar interests and provides recommendations based on this matching. Collaborative filters do not require item metadata like its content-based counterparts.Collaborative filtering methods predict the target user’s rating of a given item using similar users’ ratings of that item.\n",
        "\n",
        "Collaborative filtering is more commonly used than content-based systems because it usually gives better results and is relatively easy to understand(from an overall implementation perspective)\n",
        "\n",
        "For more details check out this article [here.](https://https://medium.com/@jwu2/types-of-recommender-systems-9cc216294802)\n"
      ]
    },
    {
      "cell_type": "markdown",
      "metadata": {
        "id": "4d5t3sUg616a"
      },
      "source": [
        "Dataset\n",
        "\n",
        "The dataset used in this notebook is from MovieLens, a movie rating dataset. The dataset will be used to develop a basic movie recommendation system using collaborative filtering."
      ]
    },
    {
      "cell_type": "markdown",
      "metadata": {
        "id": "wANybehVwRTv"
      },
      "source": [
        "Mounting Drive"
      ]
    },
    {
      "cell_type": "code",
      "metadata": {
        "id": "2GF9R-sqt6-G",
        "outputId": "ad490807-c483-4f5e-812e-17db10b01d01",
        "colab": {
          "base_uri": "https://localhost:8080/"
        }
      },
      "source": [
        "from google.colab import drive\n",
        "drive.mount('/content/drive')"
      ],
      "execution_count": 2,
      "outputs": [
        {
          "output_type": "stream",
          "text": [
            "Mounted at /content/drive\n"
          ],
          "name": "stdout"
        }
      ]
    },
    {
      "cell_type": "code",
      "metadata": {
        "id": "tR6zFswn9UWy",
        "outputId": "e01438bb-7ed7-4287-fd85-4591b865d473",
        "colab": {
          "base_uri": "https://localhost:8080/"
        }
      },
      "source": [
        "#installing necessary depedencies\n",
        "!pip install scikit-surprise"
      ],
      "execution_count": 3,
      "outputs": [
        {
          "output_type": "stream",
          "text": [
            "Collecting scikit-surprise\n",
            "\u001b[?25l  Downloading https://files.pythonhosted.org/packages/97/37/5d334adaf5ddd65da99fc65f6507e0e4599d092ba048f4302fe8775619e8/scikit-surprise-1.1.1.tar.gz (11.8MB)\n",
            "\u001b[K     |████████████████████████████████| 11.8MB 5.4MB/s \n",
            "\u001b[?25hRequirement already satisfied: joblib>=0.11 in /usr/local/lib/python3.6/dist-packages (from scikit-surprise) (0.17.0)\n",
            "Requirement already satisfied: numpy>=1.11.2 in /usr/local/lib/python3.6/dist-packages (from scikit-surprise) (1.18.5)\n",
            "Requirement already satisfied: scipy>=1.0.0 in /usr/local/lib/python3.6/dist-packages (from scikit-surprise) (1.4.1)\n",
            "Requirement already satisfied: six>=1.10.0 in /usr/local/lib/python3.6/dist-packages (from scikit-surprise) (1.15.0)\n",
            "Building wheels for collected packages: scikit-surprise\n",
            "  Building wheel for scikit-surprise (setup.py) ... \u001b[?25l\u001b[?25hdone\n",
            "  Created wheel for scikit-surprise: filename=scikit_surprise-1.1.1-cp36-cp36m-linux_x86_64.whl size=1670905 sha256=9d2416dd0897290e01d9406ee9fdd61c957e040f31fc230944d68fe8184e780d\n",
            "  Stored in directory: /root/.cache/pip/wheels/78/9c/3d/41b419c9d2aff5b6e2b4c0fc8d25c538202834058f9ed110d0\n",
            "Successfully built scikit-surprise\n",
            "Installing collected packages: scikit-surprise\n",
            "Successfully installed scikit-surprise-1.1.1\n"
          ],
          "name": "stdout"
        }
      ]
    },
    {
      "cell_type": "code",
      "metadata": {
        "id": "lLOZI6QR9ek4"
      },
      "source": [
        "#importing libraries\n",
        "import numpy as np\n",
        "import pandas as pd\n",
        "import matplotlib.pyplot as plt\n",
        "import seaborn as sns\n",
        "sns.set_style('whitegrid')\n",
        "%matplotlib inline\n",
        "from surprise import Reader\n",
        "from surprise import Dataset\n",
        "from surprise.model_selection import KFold\n",
        "from surprise.model_selection import cross_validate\n",
        "from surprise import NormalPredictor\n",
        "from surprise import KNNBasic\n",
        "from surprise import KNNWithMeans\n",
        "from surprise import KNNWithZScore\n",
        "from surprise import KNNBaseline\n",
        "from surprise import SVD\n",
        "from surprise import SVDpp\n",
        "from surprise import NMF\n",
        "from surprise import SlopeOne\n",
        "from surprise import CoClustering\n",
        "from surprise.accuracy import rmse\n",
        "from surprise import accuracy\n",
        "from surprise.model_selection import train_test_split\n",
        "from surprise.model_selection import GridSearchCV\n",
        "from collections import defaultdict\n"
      ],
      "execution_count": 4,
      "outputs": []
    },
    {
      "cell_type": "markdown",
      "metadata": {
        "id": "3wdWnYVtDV2N"
      },
      "source": [
        "Loading the Datasets"
      ]
    },
    {
      "cell_type": "code",
      "metadata": {
        "id": "ZRt0zzsvwW6y",
        "outputId": "c3699f9a-3815-43d5-a449-f71090bf9e01",
        "colab": {
          "base_uri": "https://localhost:8080/",
          "height": 204
        }
      },
      "source": [
        "#loading the datasets\n",
        "file_path = '/content/drive/My Drive/Sancom Interview Assessment/Task_2/Datasets/ratings.csv'\n",
        "ratings_df = pd.read_csv(file_path)\n",
        "ratings_df.head()"
      ],
      "execution_count": 5,
      "outputs": [
        {
          "output_type": "execute_result",
          "data": {
            "text/html": [
              "<div>\n",
              "<style scoped>\n",
              "    .dataframe tbody tr th:only-of-type {\n",
              "        vertical-align: middle;\n",
              "    }\n",
              "\n",
              "    .dataframe tbody tr th {\n",
              "        vertical-align: top;\n",
              "    }\n",
              "\n",
              "    .dataframe thead th {\n",
              "        text-align: right;\n",
              "    }\n",
              "</style>\n",
              "<table border=\"1\" class=\"dataframe\">\n",
              "  <thead>\n",
              "    <tr style=\"text-align: right;\">\n",
              "      <th></th>\n",
              "      <th>userId</th>\n",
              "      <th>movieId</th>\n",
              "      <th>rating</th>\n",
              "      <th>timestamp</th>\n",
              "    </tr>\n",
              "  </thead>\n",
              "  <tbody>\n",
              "    <tr>\n",
              "      <th>0</th>\n",
              "      <td>1</td>\n",
              "      <td>1</td>\n",
              "      <td>4.0</td>\n",
              "      <td>964982703</td>\n",
              "    </tr>\n",
              "    <tr>\n",
              "      <th>1</th>\n",
              "      <td>1</td>\n",
              "      <td>3</td>\n",
              "      <td>4.0</td>\n",
              "      <td>964981247</td>\n",
              "    </tr>\n",
              "    <tr>\n",
              "      <th>2</th>\n",
              "      <td>1</td>\n",
              "      <td>6</td>\n",
              "      <td>4.0</td>\n",
              "      <td>964982224</td>\n",
              "    </tr>\n",
              "    <tr>\n",
              "      <th>3</th>\n",
              "      <td>1</td>\n",
              "      <td>47</td>\n",
              "      <td>5.0</td>\n",
              "      <td>964983815</td>\n",
              "    </tr>\n",
              "    <tr>\n",
              "      <th>4</th>\n",
              "      <td>1</td>\n",
              "      <td>50</td>\n",
              "      <td>5.0</td>\n",
              "      <td>964982931</td>\n",
              "    </tr>\n",
              "  </tbody>\n",
              "</table>\n",
              "</div>"
            ],
            "text/plain": [
              "   userId  movieId  rating  timestamp\n",
              "0       1        1     4.0  964982703\n",
              "1       1        3     4.0  964981247\n",
              "2       1        6     4.0  964982224\n",
              "3       1       47     5.0  964983815\n",
              "4       1       50     5.0  964982931"
            ]
          },
          "metadata": {
            "tags": []
          },
          "execution_count": 5
        }
      ]
    },
    {
      "cell_type": "code",
      "metadata": {
        "id": "b1ABQGJDDBtm",
        "outputId": "6c6640b6-4096-43f1-d3d3-981f836154c4",
        "colab": {
          "base_uri": "https://localhost:8080/"
        }
      },
      "source": [
        "#getting the general info on the ratings dataframe\n",
        "ratings_df.info()"
      ],
      "execution_count": 6,
      "outputs": [
        {
          "output_type": "stream",
          "text": [
            "<class 'pandas.core.frame.DataFrame'>\n",
            "RangeIndex: 100836 entries, 0 to 100835\n",
            "Data columns (total 4 columns):\n",
            " #   Column     Non-Null Count   Dtype  \n",
            "---  ------     --------------   -----  \n",
            " 0   userId     100836 non-null  int64  \n",
            " 1   movieId    100836 non-null  int64  \n",
            " 2   rating     100836 non-null  float64\n",
            " 3   timestamp  100836 non-null  int64  \n",
            "dtypes: float64(1), int64(3)\n",
            "memory usage: 3.1 MB\n"
          ],
          "name": "stdout"
        }
      ]
    },
    {
      "cell_type": "code",
      "metadata": {
        "id": "wWeTRVDQDRJt",
        "outputId": "0eee3f84-c74d-4e23-be0f-202d70f43d5c",
        "colab": {
          "base_uri": "https://localhost:8080/",
          "height": 204
        }
      },
      "source": [
        "#loading the movie titles\n",
        "file_path_1 = '/content/drive/My Drive/Sancom Interview Assessment/Task_2/Datasets/movies.csv'\n",
        "movie_titles = pd.read_csv(file_path_1)\n",
        "movie_titles.head()"
      ],
      "execution_count": 7,
      "outputs": [
        {
          "output_type": "execute_result",
          "data": {
            "text/html": [
              "<div>\n",
              "<style scoped>\n",
              "    .dataframe tbody tr th:only-of-type {\n",
              "        vertical-align: middle;\n",
              "    }\n",
              "\n",
              "    .dataframe tbody tr th {\n",
              "        vertical-align: top;\n",
              "    }\n",
              "\n",
              "    .dataframe thead th {\n",
              "        text-align: right;\n",
              "    }\n",
              "</style>\n",
              "<table border=\"1\" class=\"dataframe\">\n",
              "  <thead>\n",
              "    <tr style=\"text-align: right;\">\n",
              "      <th></th>\n",
              "      <th>movieId</th>\n",
              "      <th>title</th>\n",
              "      <th>genres</th>\n",
              "    </tr>\n",
              "  </thead>\n",
              "  <tbody>\n",
              "    <tr>\n",
              "      <th>0</th>\n",
              "      <td>1</td>\n",
              "      <td>Toy Story (1995)</td>\n",
              "      <td>Adventure|Animation|Children|Comedy|Fantasy</td>\n",
              "    </tr>\n",
              "    <tr>\n",
              "      <th>1</th>\n",
              "      <td>2</td>\n",
              "      <td>Jumanji (1995)</td>\n",
              "      <td>Adventure|Children|Fantasy</td>\n",
              "    </tr>\n",
              "    <tr>\n",
              "      <th>2</th>\n",
              "      <td>3</td>\n",
              "      <td>Grumpier Old Men (1995)</td>\n",
              "      <td>Comedy|Romance</td>\n",
              "    </tr>\n",
              "    <tr>\n",
              "      <th>3</th>\n",
              "      <td>4</td>\n",
              "      <td>Waiting to Exhale (1995)</td>\n",
              "      <td>Comedy|Drama|Romance</td>\n",
              "    </tr>\n",
              "    <tr>\n",
              "      <th>4</th>\n",
              "      <td>5</td>\n",
              "      <td>Father of the Bride Part II (1995)</td>\n",
              "      <td>Comedy</td>\n",
              "    </tr>\n",
              "  </tbody>\n",
              "</table>\n",
              "</div>"
            ],
            "text/plain": [
              "   movieId  ...                                       genres\n",
              "0        1  ...  Adventure|Animation|Children|Comedy|Fantasy\n",
              "1        2  ...                   Adventure|Children|Fantasy\n",
              "2        3  ...                               Comedy|Romance\n",
              "3        4  ...                         Comedy|Drama|Romance\n",
              "4        5  ...                                       Comedy\n",
              "\n",
              "[5 rows x 3 columns]"
            ]
          },
          "metadata": {
            "tags": []
          },
          "execution_count": 7
        }
      ]
    },
    {
      "cell_type": "code",
      "metadata": {
        "id": "k3ZepdgOH5Ax",
        "outputId": "87580912-e652-4c81-9d17-2ab27721a666",
        "colab": {
          "base_uri": "https://localhost:8080/"
        }
      },
      "source": [
        "#getting info on titles dataframe\n",
        "movie_titles.info()"
      ],
      "execution_count": 8,
      "outputs": [
        {
          "output_type": "stream",
          "text": [
            "<class 'pandas.core.frame.DataFrame'>\n",
            "RangeIndex: 9742 entries, 0 to 9741\n",
            "Data columns (total 3 columns):\n",
            " #   Column   Non-Null Count  Dtype \n",
            "---  ------   --------------  ----- \n",
            " 0   movieId  9742 non-null   int64 \n",
            " 1   title    9742 non-null   object\n",
            " 2   genres   9742 non-null   object\n",
            "dtypes: int64(1), object(2)\n",
            "memory usage: 228.5+ KB\n"
          ],
          "name": "stdout"
        }
      ]
    },
    {
      "cell_type": "code",
      "metadata": {
        "id": "zRB9KFprISJO",
        "outputId": "002025d5-d6ed-4c34-acf5-d6bcff8aa580",
        "colab": {
          "base_uri": "https://localhost:8080/",
          "height": 394
        }
      },
      "source": [
        "#merging the dataframes\n",
        "merged_df = pd.merge(ratings_df,movie_titles,on='movieId')\n",
        "merged_df.head()"
      ],
      "execution_count": 9,
      "outputs": [
        {
          "output_type": "execute_result",
          "data": {
            "text/html": [
              "<div>\n",
              "<style scoped>\n",
              "    .dataframe tbody tr th:only-of-type {\n",
              "        vertical-align: middle;\n",
              "    }\n",
              "\n",
              "    .dataframe tbody tr th {\n",
              "        vertical-align: top;\n",
              "    }\n",
              "\n",
              "    .dataframe thead th {\n",
              "        text-align: right;\n",
              "    }\n",
              "</style>\n",
              "<table border=\"1\" class=\"dataframe\">\n",
              "  <thead>\n",
              "    <tr style=\"text-align: right;\">\n",
              "      <th></th>\n",
              "      <th>userId</th>\n",
              "      <th>movieId</th>\n",
              "      <th>rating</th>\n",
              "      <th>timestamp</th>\n",
              "      <th>title</th>\n",
              "      <th>genres</th>\n",
              "    </tr>\n",
              "  </thead>\n",
              "  <tbody>\n",
              "    <tr>\n",
              "      <th>0</th>\n",
              "      <td>1</td>\n",
              "      <td>1</td>\n",
              "      <td>4.0</td>\n",
              "      <td>964982703</td>\n",
              "      <td>Toy Story (1995)</td>\n",
              "      <td>Adventure|Animation|Children|Comedy|Fantasy</td>\n",
              "    </tr>\n",
              "    <tr>\n",
              "      <th>1</th>\n",
              "      <td>5</td>\n",
              "      <td>1</td>\n",
              "      <td>4.0</td>\n",
              "      <td>847434962</td>\n",
              "      <td>Toy Story (1995)</td>\n",
              "      <td>Adventure|Animation|Children|Comedy|Fantasy</td>\n",
              "    </tr>\n",
              "    <tr>\n",
              "      <th>2</th>\n",
              "      <td>7</td>\n",
              "      <td>1</td>\n",
              "      <td>4.5</td>\n",
              "      <td>1106635946</td>\n",
              "      <td>Toy Story (1995)</td>\n",
              "      <td>Adventure|Animation|Children|Comedy|Fantasy</td>\n",
              "    </tr>\n",
              "    <tr>\n",
              "      <th>3</th>\n",
              "      <td>15</td>\n",
              "      <td>1</td>\n",
              "      <td>2.5</td>\n",
              "      <td>1510577970</td>\n",
              "      <td>Toy Story (1995)</td>\n",
              "      <td>Adventure|Animation|Children|Comedy|Fantasy</td>\n",
              "    </tr>\n",
              "    <tr>\n",
              "      <th>4</th>\n",
              "      <td>17</td>\n",
              "      <td>1</td>\n",
              "      <td>4.5</td>\n",
              "      <td>1305696483</td>\n",
              "      <td>Toy Story (1995)</td>\n",
              "      <td>Adventure|Animation|Children|Comedy|Fantasy</td>\n",
              "    </tr>\n",
              "  </tbody>\n",
              "</table>\n",
              "</div>"
            ],
            "text/plain": [
              "   userId  ...                                       genres\n",
              "0       1  ...  Adventure|Animation|Children|Comedy|Fantasy\n",
              "1       5  ...  Adventure|Animation|Children|Comedy|Fantasy\n",
              "2       7  ...  Adventure|Animation|Children|Comedy|Fantasy\n",
              "3      15  ...  Adventure|Animation|Children|Comedy|Fantasy\n",
              "4      17  ...  Adventure|Animation|Children|Comedy|Fantasy\n",
              "\n",
              "[5 rows x 6 columns]"
            ]
          },
          "metadata": {
            "tags": []
          },
          "execution_count": 9
        }
      ]
    },
    {
      "cell_type": "markdown",
      "metadata": {
        "id": "FGWiInq_JZNa"
      },
      "source": [
        "### Exploratory Data Analysis(EDA)"
      ]
    },
    {
      "cell_type": "markdown",
      "metadata": {
        "id": "6hXy-3vnJuzT"
      },
      "source": [
        "The Average rating of Movie Titles"
      ]
    },
    {
      "cell_type": "code",
      "metadata": {
        "id": "yfuUR8r7J9o8",
        "outputId": "98ae1d97-893c-4e12-ca08-ca2010ecc3d2",
        "colab": {
          "base_uri": "https://localhost:8080/"
        }
      },
      "source": [
        "#grouping the merged dataframe by title_The top 10 rated movies\n",
        "merged_df.groupby('title')['rating'].mean().sort_values(ascending = False).head(10)"
      ],
      "execution_count": 10,
      "outputs": [
        {
          "output_type": "execute_result",
          "data": {
            "text/plain": [
              "title\n",
              "Karlson Returns (1970)                           5.0\n",
              "Winter in Prostokvashino (1984)                  5.0\n",
              "My Love (2006)                                   5.0\n",
              "Sorority House Massacre II (1990)                5.0\n",
              "Winnie the Pooh and the Day of Concern (1972)    5.0\n",
              "Sorority House Massacre (1986)                   5.0\n",
              "Bill Hicks: Revelations (1993)                   5.0\n",
              "My Man Godfrey (1957)                            5.0\n",
              "Hellbenders (2012)                               5.0\n",
              "In the blue sea, in the white foam. (1984)       5.0\n",
              "Name: rating, dtype: float64"
            ]
          },
          "metadata": {
            "tags": []
          },
          "execution_count": 10
        }
      ]
    },
    {
      "cell_type": "code",
      "metadata": {
        "id": "0cZUY2aBIikS",
        "outputId": "e6cf4e39-98c0-4b36-d826-ffe154c79183",
        "colab": {
          "base_uri": "https://localhost:8080/"
        }
      },
      "source": [
        "#The most rated movies\n",
        "merged_df.groupby('title')['rating'].count().sort_values(ascending=False).head(20)"
      ],
      "execution_count": 11,
      "outputs": [
        {
          "output_type": "execute_result",
          "data": {
            "text/plain": [
              "title\n",
              "Forrest Gump (1994)                                                               329\n",
              "Shawshank Redemption, The (1994)                                                  317\n",
              "Pulp Fiction (1994)                                                               307\n",
              "Silence of the Lambs, The (1991)                                                  279\n",
              "Matrix, The (1999)                                                                278\n",
              "Star Wars: Episode IV - A New Hope (1977)                                         251\n",
              "Jurassic Park (1993)                                                              238\n",
              "Braveheart (1995)                                                                 237\n",
              "Terminator 2: Judgment Day (1991)                                                 224\n",
              "Schindler's List (1993)                                                           220\n",
              "Fight Club (1999)                                                                 218\n",
              "Toy Story (1995)                                                                  215\n",
              "Star Wars: Episode V - The Empire Strikes Back (1980)                             211\n",
              "Usual Suspects, The (1995)                                                        204\n",
              "American Beauty (1999)                                                            204\n",
              "Seven (a.k.a. Se7en) (1995)                                                       203\n",
              "Independence Day (a.k.a. ID4) (1996)                                              202\n",
              "Apollo 13 (1995)                                                                  201\n",
              "Raiders of the Lost Ark (Indiana Jones and the Raiders of the Lost Ark) (1981)    200\n",
              "Lord of the Rings: The Fellowship of the Ring, The (2001)                         198\n",
              "Name: rating, dtype: int64"
            ]
          },
          "metadata": {
            "tags": []
          },
          "execution_count": 11
        }
      ]
    },
    {
      "cell_type": "code",
      "metadata": {
        "id": "bWpLO_PRIitc",
        "outputId": "bb348827-d997-4f9b-c29c-f3afa701239e",
        "colab": {
          "base_uri": "https://localhost:8080/",
          "height": 390
        }
      },
      "source": [
        "#creating a dataframe- grouped by the title\n",
        "grouped_df = pd.DataFrame(merged_df.groupby('title')['rating'].mean())\n",
        "grouped_df.head(10)"
      ],
      "execution_count": 12,
      "outputs": [
        {
          "output_type": "execute_result",
          "data": {
            "text/html": [
              "<div>\n",
              "<style scoped>\n",
              "    .dataframe tbody tr th:only-of-type {\n",
              "        vertical-align: middle;\n",
              "    }\n",
              "\n",
              "    .dataframe tbody tr th {\n",
              "        vertical-align: top;\n",
              "    }\n",
              "\n",
              "    .dataframe thead th {\n",
              "        text-align: right;\n",
              "    }\n",
              "</style>\n",
              "<table border=\"1\" class=\"dataframe\">\n",
              "  <thead>\n",
              "    <tr style=\"text-align: right;\">\n",
              "      <th></th>\n",
              "      <th>rating</th>\n",
              "    </tr>\n",
              "    <tr>\n",
              "      <th>title</th>\n",
              "      <th></th>\n",
              "    </tr>\n",
              "  </thead>\n",
              "  <tbody>\n",
              "    <tr>\n",
              "      <th>'71 (2014)</th>\n",
              "      <td>4.000000</td>\n",
              "    </tr>\n",
              "    <tr>\n",
              "      <th>'Hellboy': The Seeds of Creation (2004)</th>\n",
              "      <td>4.000000</td>\n",
              "    </tr>\n",
              "    <tr>\n",
              "      <th>'Round Midnight (1986)</th>\n",
              "      <td>3.500000</td>\n",
              "    </tr>\n",
              "    <tr>\n",
              "      <th>'Salem's Lot (2004)</th>\n",
              "      <td>5.000000</td>\n",
              "    </tr>\n",
              "    <tr>\n",
              "      <th>'Til There Was You (1997)</th>\n",
              "      <td>4.000000</td>\n",
              "    </tr>\n",
              "    <tr>\n",
              "      <th>'Tis the Season for Love (2015)</th>\n",
              "      <td>1.500000</td>\n",
              "    </tr>\n",
              "    <tr>\n",
              "      <th>'burbs, The (1989)</th>\n",
              "      <td>3.176471</td>\n",
              "    </tr>\n",
              "    <tr>\n",
              "      <th>'night Mother (1986)</th>\n",
              "      <td>3.000000</td>\n",
              "    </tr>\n",
              "    <tr>\n",
              "      <th>(500) Days of Summer (2009)</th>\n",
              "      <td>3.666667</td>\n",
              "    </tr>\n",
              "    <tr>\n",
              "      <th>*batteries not included (1987)</th>\n",
              "      <td>3.285714</td>\n",
              "    </tr>\n",
              "  </tbody>\n",
              "</table>\n",
              "</div>"
            ],
            "text/plain": [
              "                                           rating\n",
              "title                                            \n",
              "'71 (2014)                               4.000000\n",
              "'Hellboy': The Seeds of Creation (2004)  4.000000\n",
              "'Round Midnight (1986)                   3.500000\n",
              "'Salem's Lot (2004)                      5.000000\n",
              "'Til There Was You (1997)                4.000000\n",
              "'Tis the Season for Love (2015)          1.500000\n",
              "'burbs, The (1989)                       3.176471\n",
              "'night Mother (1986)                     3.000000\n",
              "(500) Days of Summer (2009)              3.666667\n",
              "*batteries not included (1987)           3.285714"
            ]
          },
          "metadata": {
            "tags": []
          },
          "execution_count": 12
        }
      ]
    },
    {
      "cell_type": "code",
      "metadata": {
        "id": "7Qi4lFI_Ii15",
        "outputId": "5f69aa43-0357-47b9-ac37-134461e43a39",
        "colab": {
          "base_uri": "https://localhost:8080/",
          "height": 390
        }
      },
      "source": [
        "#getting the number of ratings per movie title\n",
        "grouped_df['num_of_ratings'] = pd.DataFrame(merged_df.groupby('title')['rating'].count())\n",
        "grouped_df.head(10)"
      ],
      "execution_count": 13,
      "outputs": [
        {
          "output_type": "execute_result",
          "data": {
            "text/html": [
              "<div>\n",
              "<style scoped>\n",
              "    .dataframe tbody tr th:only-of-type {\n",
              "        vertical-align: middle;\n",
              "    }\n",
              "\n",
              "    .dataframe tbody tr th {\n",
              "        vertical-align: top;\n",
              "    }\n",
              "\n",
              "    .dataframe thead th {\n",
              "        text-align: right;\n",
              "    }\n",
              "</style>\n",
              "<table border=\"1\" class=\"dataframe\">\n",
              "  <thead>\n",
              "    <tr style=\"text-align: right;\">\n",
              "      <th></th>\n",
              "      <th>rating</th>\n",
              "      <th>num_of_ratings</th>\n",
              "    </tr>\n",
              "    <tr>\n",
              "      <th>title</th>\n",
              "      <th></th>\n",
              "      <th></th>\n",
              "    </tr>\n",
              "  </thead>\n",
              "  <tbody>\n",
              "    <tr>\n",
              "      <th>'71 (2014)</th>\n",
              "      <td>4.000000</td>\n",
              "      <td>1</td>\n",
              "    </tr>\n",
              "    <tr>\n",
              "      <th>'Hellboy': The Seeds of Creation (2004)</th>\n",
              "      <td>4.000000</td>\n",
              "      <td>1</td>\n",
              "    </tr>\n",
              "    <tr>\n",
              "      <th>'Round Midnight (1986)</th>\n",
              "      <td>3.500000</td>\n",
              "      <td>2</td>\n",
              "    </tr>\n",
              "    <tr>\n",
              "      <th>'Salem's Lot (2004)</th>\n",
              "      <td>5.000000</td>\n",
              "      <td>1</td>\n",
              "    </tr>\n",
              "    <tr>\n",
              "      <th>'Til There Was You (1997)</th>\n",
              "      <td>4.000000</td>\n",
              "      <td>2</td>\n",
              "    </tr>\n",
              "    <tr>\n",
              "      <th>'Tis the Season for Love (2015)</th>\n",
              "      <td>1.500000</td>\n",
              "      <td>1</td>\n",
              "    </tr>\n",
              "    <tr>\n",
              "      <th>'burbs, The (1989)</th>\n",
              "      <td>3.176471</td>\n",
              "      <td>17</td>\n",
              "    </tr>\n",
              "    <tr>\n",
              "      <th>'night Mother (1986)</th>\n",
              "      <td>3.000000</td>\n",
              "      <td>1</td>\n",
              "    </tr>\n",
              "    <tr>\n",
              "      <th>(500) Days of Summer (2009)</th>\n",
              "      <td>3.666667</td>\n",
              "      <td>42</td>\n",
              "    </tr>\n",
              "    <tr>\n",
              "      <th>*batteries not included (1987)</th>\n",
              "      <td>3.285714</td>\n",
              "      <td>7</td>\n",
              "    </tr>\n",
              "  </tbody>\n",
              "</table>\n",
              "</div>"
            ],
            "text/plain": [
              "                                           rating  num_of_ratings\n",
              "title                                                            \n",
              "'71 (2014)                               4.000000               1\n",
              "'Hellboy': The Seeds of Creation (2004)  4.000000               1\n",
              "'Round Midnight (1986)                   3.500000               2\n",
              "'Salem's Lot (2004)                      5.000000               1\n",
              "'Til There Was You (1997)                4.000000               2\n",
              "'Tis the Season for Love (2015)          1.500000               1\n",
              "'burbs, The (1989)                       3.176471              17\n",
              "'night Mother (1986)                     3.000000               1\n",
              "(500) Days of Summer (2009)              3.666667              42\n",
              "*batteries not included (1987)           3.285714               7"
            ]
          },
          "metadata": {
            "tags": []
          },
          "execution_count": 13
        }
      ]
    },
    {
      "cell_type": "code",
      "metadata": {
        "id": "Gu3gApOhYI-C",
        "outputId": "9f561ad4-ac3f-46f5-c03f-1ef2bf2b2146",
        "colab": {
          "base_uri": "https://localhost:8080/"
        }
      },
      "source": [
        "#average number of ratings\n",
        "grouped_df['num_of_ratings'].mean()"
      ],
      "execution_count": 14,
      "outputs": [
        {
          "output_type": "execute_result",
          "data": {
            "text/plain": [
              "10.375141475460438"
            ]
          },
          "metadata": {
            "tags": []
          },
          "execution_count": 14
        }
      ]
    },
    {
      "cell_type": "code",
      "metadata": {
        "id": "h0d4FQwNYpjB",
        "outputId": "0ae3b776-cfd8-418b-cad1-a93f5a533fb8",
        "colab": {
          "base_uri": "https://localhost:8080/"
        }
      },
      "source": [
        "#number of movies with more than average number of ratings\n",
        "sum(grouped_df['num_of_ratings']>10)"
      ],
      "execution_count": 15,
      "outputs": [
        {
          "output_type": "execute_result",
          "data": {
            "text/plain": [
              "2121"
            ]
          },
          "metadata": {
            "tags": []
          },
          "execution_count": 15
        }
      ]
    },
    {
      "cell_type": "code",
      "metadata": {
        "id": "6ue2JF0VIi-5",
        "outputId": "f5076f85-b194-42a8-b8cf-4ed7357d8c0c",
        "colab": {
          "base_uri": "https://localhost:8080/",
          "height": 282
        }
      },
      "source": [
        "#Distribution of num of ratings\n",
        "plt.figure(figsize = (10,4))\n",
        "grouped_df['num_of_ratings'].hist(bins=70)"
      ],
      "execution_count": 16,
      "outputs": [
        {
          "output_type": "execute_result",
          "data": {
            "text/plain": [
              "<matplotlib.axes._subplots.AxesSubplot at 0x7f70b5043fd0>"
            ]
          },
          "metadata": {
            "tags": []
          },
          "execution_count": 16
        },
        {
          "output_type": "display_data",
          "data": {
            "image/png": "[encoded data removed]",
            "text/plain": [
              "<Figure size 720x288 with 1 Axes>"
            ]
          },
          "metadata": {
            "tags": [],
            "needs_background": "light"
          }
        }
      ]
    },
    {
      "cell_type": "code",
      "metadata": {
        "id": "lZ11eRlZIi8y",
        "outputId": "ede0d2aa-9148-4aa3-86df-bf57a6172b5d",
        "colab": {
          "base_uri": "https://localhost:8080/",
          "height": 265
        }
      },
      "source": [
        "#Distribution of ratings\n",
        "plt.figure(figsize=(10,4))\n",
        "grouped_df['rating'].hist(bins=70)\n",
        "plt.show()"
      ],
      "execution_count": 17,
      "outputs": [
        {
          "output_type": "display_data",
          "data": {
            "image/png": "[encoded data removed]",
            "text/plain": [
              "<Figure size 720x288 with 1 Axes>"
            ]
          },
          "metadata": {
            "tags": [],
            "needs_background": "light"
          }
        }
      ]
    },
    {
      "cell_type": "code",
      "metadata": {
        "id": "RcXbvB9rIi4i",
        "outputId": "71df6cb5-c9e0-4c2d-f056-b86a4d8c5476",
        "colab": {
          "base_uri": "https://localhost:8080/",
          "height": 458
        }
      },
      "source": [
        "#distribution of ratings against number of ratings\n",
        "sns.jointplot(x='rating',y='num_of_ratings',data=grouped_df,alpha=0.5)"
      ],
      "execution_count": 18,
      "outputs": [
        {
          "output_type": "execute_result",
          "data": {
            "text/plain": [
              "<seaborn.axisgrid.JointGrid at 0x7f70b3ab4ef0>"
            ]
          },
          "metadata": {
            "tags": []
          },
          "execution_count": 18
        },
        {
          "output_type": "display_data",
          "data": {
            "image/png": "[encoded data removed]",
            "text/plain": [
              "<Figure size 432x432 with 3 Axes>"
            ]
          },
          "metadata": {
            "tags": [],
            "needs_background": "light"
          }
        }
      ]
    },
    {
      "cell_type": "markdown",
      "metadata": {
        "id": "t3q1gTAMQC6f"
      },
      "source": [
        "From the above plot we can infer most of the movies are rated between 3 and 4. While movies with the highest ratings do not have the most number of ratings"
      ]
    },
    {
      "cell_type": "code",
      "metadata": {
        "id": "Wemt0wXEIiv9",
        "outputId": "38d45fe1-7a50-4271-fb0a-d9e90c665540",
        "colab": {
          "base_uri": "https://localhost:8080/"
        }
      },
      "source": [
        "#number of ratings per user\n",
        "merged_df.groupby('userId')['rating'].count().sort_values(ascending=False).head(10)"
      ],
      "execution_count": 19,
      "outputs": [
        {
          "output_type": "execute_result",
          "data": {
            "text/plain": [
              "userId\n",
              "414    2698\n",
              "599    2478\n",
              "474    2108\n",
              "448    1864\n",
              "274    1346\n",
              "610    1302\n",
              "68     1260\n",
              "380    1218\n",
              "606    1115\n",
              "288    1055\n",
              "Name: rating, dtype: int64"
            ]
          },
          "metadata": {
            "tags": []
          },
          "execution_count": 19
        }
      ]
    },
    {
      "cell_type": "code",
      "metadata": {
        "id": "egji0USfIim8",
        "outputId": "b1caf1fc-7b5f-4739-92e5-712786bcb758",
        "colab": {
          "base_uri": "https://localhost:8080/"
        }
      },
      "source": [
        "#number of ratings per user\n",
        "merged_df.groupby('userId')['rating'].count().sort_values(ascending=True).head(10)"
      ],
      "execution_count": 20,
      "outputs": [
        {
          "output_type": "execute_result",
          "data": {
            "text/plain": [
              "userId\n",
              "442    20\n",
              "406    20\n",
              "147    20\n",
              "194    20\n",
              "569    20\n",
              "576    20\n",
              "431    20\n",
              "207    20\n",
              "278    20\n",
              "320    20\n",
              "Name: rating, dtype: int64"
            ]
          },
          "metadata": {
            "tags": []
          },
          "execution_count": 20
        }
      ]
    },
    {
      "cell_type": "markdown",
      "metadata": {
        "id": "5bfRaubfQo_u"
      },
      "source": [
        "The minumum number of ratings given by a user is 20 while the highest number of ratings is 2698. "
      ]
    },
    {
      "cell_type": "markdown",
      "metadata": {
        "id": "ePM0UX4fRLql"
      },
      "source": [
        "## Building a Recommender System"
      ]
    },
    {
      "cell_type": "markdown",
      "metadata": {
        "id": "91vza7y-RU-F"
      },
      "source": [
        "### **Part One: Using Pandas**\n",
        "\n",
        "Having a general idea of what the data looks like, a simple recommendation system can be built using pandas."
      ]
    },
    {
      "cell_type": "code",
      "metadata": {
        "id": "efiEnXCYIigD",
        "outputId": "ca63ee0d-0faf-43d8-a855-704c78eca93c",
        "colab": {
          "base_uri": "https://localhost:8080/",
          "height": 454
        }
      },
      "source": [
        "#creating a matrix\n",
        "matrix = merged_df.pivot_table(index='userId',columns='title',values='rating')\n",
        "matrix.head()"
      ],
      "execution_count": 21,
      "outputs": [
        {
          "output_type": "execute_result",
          "data": {
            "text/html": [
              "<div>\n",
              "<style scoped>\n",
              "    .dataframe tbody tr th:only-of-type {\n",
              "        vertical-align: middle;\n",
              "    }\n",
              "\n",
              "    .dataframe tbody tr th {\n",
              "        vertical-align: top;\n",
              "    }\n",
              "\n",
              "    .dataframe thead th {\n",
              "        text-align: right;\n",
              "    }\n",
              "</style>\n",
              "<table border=\"1\" class=\"dataframe\">\n",
              "  <thead>\n",
              "    <tr style=\"text-align: right;\">\n",
              "      <th>title</th>\n",
              "      <th>'71 (2014)</th>\n",
              "      <th>'Hellboy': The Seeds of Creation (2004)</th>\n",
              "      <th>'Round Midnight (1986)</th>\n",
              "      <th>'Salem's Lot (2004)</th>\n",
              "      <th>'Til There Was You (1997)</th>\n",
              "      <th>'Tis the Season for Love (2015)</th>\n",
              "      <th>'burbs, The (1989)</th>\n",
              "      <th>'night Mother (1986)</th>\n",
              "      <th>(500) Days of Summer (2009)</th>\n",
              "      <th>*batteries not included (1987)</th>\n",
              "      <th>...All the Marbles (1981)</th>\n",
              "      <th>...And Justice for All (1979)</th>\n",
              "      <th>00 Schneider - Jagd auf Nihil Baxter (1994)</th>\n",
              "      <th>1-900 (06) (1994)</th>\n",
              "      <th>10 (1979)</th>\n",
              "      <th>10 Cent Pistol (2015)</th>\n",
              "      <th>10 Cloverfield Lane (2016)</th>\n",
              "      <th>10 Items or Less (2006)</th>\n",
              "      <th>10 Things I Hate About You (1999)</th>\n",
              "      <th>10 Years (2011)</th>\n",
              "      <th>10,000 BC (2008)</th>\n",
              "      <th>100 Girls (2000)</th>\n",
              "      <th>100 Streets (2016)</th>\n",
              "      <th>101 Dalmatians (1996)</th>\n",
              "      <th>101 Dalmatians (One Hundred and One Dalmatians) (1961)</th>\n",
              "      <th>101 Dalmatians II: Patch's London Adventure (2003)</th>\n",
              "      <th>101 Reykjavik (101 Reykjavík) (2000)</th>\n",
              "      <th>102 Dalmatians (2000)</th>\n",
              "      <th>10th &amp; Wolf (2006)</th>\n",
              "      <th>10th Kingdom, The (2000)</th>\n",
              "      <th>10th Victim, The (La decima vittima) (1965)</th>\n",
              "      <th>11'09\"01 - September 11 (2002)</th>\n",
              "      <th>11:14 (2003)</th>\n",
              "      <th>11th Hour, The (2007)</th>\n",
              "      <th>12 Angry Men (1957)</th>\n",
              "      <th>12 Angry Men (1997)</th>\n",
              "      <th>12 Chairs (1971)</th>\n",
              "      <th>12 Chairs (1976)</th>\n",
              "      <th>12 Rounds (2009)</th>\n",
              "      <th>12 Years a Slave (2013)</th>\n",
              "      <th>...</th>\n",
              "      <th>Zathura (2005)</th>\n",
              "      <th>Zatoichi and the Chest of Gold (Zatôichi senryô-kubi) (Zatôichi 6) (1964)</th>\n",
              "      <th>Zazie dans le métro (1960)</th>\n",
              "      <th>Zebraman (2004)</th>\n",
              "      <th>Zed &amp; Two Noughts, A (1985)</th>\n",
              "      <th>Zeitgeist: Addendum (2008)</th>\n",
              "      <th>Zeitgeist: Moving Forward (2011)</th>\n",
              "      <th>Zeitgeist: The Movie (2007)</th>\n",
              "      <th>Zelary (2003)</th>\n",
              "      <th>Zelig (1983)</th>\n",
              "      <th>Zero Dark Thirty (2012)</th>\n",
              "      <th>Zero Effect (1998)</th>\n",
              "      <th>Zero Theorem, The (2013)</th>\n",
              "      <th>Zero de conduite (Zero for Conduct) (Zéro de conduite: Jeunes diables au collège) (1933)</th>\n",
              "      <th>Zeus and Roxanne (1997)</th>\n",
              "      <th>Zipper (2015)</th>\n",
              "      <th>Zodiac (2007)</th>\n",
              "      <th>Zombeavers (2014)</th>\n",
              "      <th>Zombie (a.k.a. Zombie 2: The Dead Are Among Us) (Zombi 2) (1979)</th>\n",
              "      <th>Zombie Strippers! (2008)</th>\n",
              "      <th>Zombieland (2009)</th>\n",
              "      <th>Zone 39 (1997)</th>\n",
              "      <th>Zone, The (La Zona) (2007)</th>\n",
              "      <th>Zookeeper (2011)</th>\n",
              "      <th>Zoolander (2001)</th>\n",
              "      <th>Zoolander 2 (2016)</th>\n",
              "      <th>Zoom (2006)</th>\n",
              "      <th>Zoom (2015)</th>\n",
              "      <th>Zootopia (2016)</th>\n",
              "      <th>Zulu (1964)</th>\n",
              "      <th>Zulu (2013)</th>\n",
              "      <th>[REC] (2007)</th>\n",
              "      <th>[REC]² (2009)</th>\n",
              "      <th>[REC]³ 3 Génesis (2012)</th>\n",
              "      <th>anohana: The Flower We Saw That Day - The Movie (2013)</th>\n",
              "      <th>eXistenZ (1999)</th>\n",
              "      <th>xXx (2002)</th>\n",
              "      <th>xXx: State of the Union (2005)</th>\n",
              "      <th>¡Three Amigos! (1986)</th>\n",
              "      <th>À nous la liberté (Freedom for Us) (1931)</th>\n",
              "    </tr>\n",
              "    <tr>\n",
              "      <th>userId</th>\n",
              "      <th></th>\n",
              "      <th></th>\n",
              "      <th></th>\n",
              "      <th></th>\n",
              "      <th></th>\n",
              "      <th></th>\n",
              "      <th></th>\n",
              "      <th></th>\n",
              "      <th></th>\n",
              "      <th></th>\n",
              "      <th></th>\n",
              "      <th></th>\n",
              "      <th></th>\n",
              "      <th></th>\n",
              "      <th></th>\n",
              "      <th></th>\n",
              "      <th></th>\n",
              "      <th></th>\n",
              "      <th></th>\n",
              "      <th></th>\n",
              "      <th></th>\n",
              "      <th></th>\n",
              "      <th></th>\n",
              "      <th></th>\n",
              "      <th></th>\n",
              "      <th></th>\n",
              "      <th></th>\n",
              "      <th></th>\n",
              "      <th></th>\n",
              "      <th></th>\n",
              "      <th></th>\n",
              "      <th></th>\n",
              "      <th></th>\n",
              "      <th></th>\n",
              "      <th></th>\n",
              "      <th></th>\n",
              "      <th></th>\n",
              "      <th></th>\n",
              "      <th></th>\n",
              "      <th></th>\n",
              "      <th></th>\n",
              "      <th></th>\n",
              "      <th></th>\n",
              "      <th></th>\n",
              "      <th></th>\n",
              "      <th></th>\n",
              "      <th></th>\n",
              "      <th></th>\n",
              "      <th></th>\n",
              "      <th></th>\n",
              "      <th></th>\n",
              "      <th></th>\n",
              "      <th></th>\n",
              "      <th></th>\n",
              "      <th></th>\n",
              "      <th></th>\n",
              "      <th></th>\n",
              "      <th></th>\n",
              "      <th></th>\n",
              "      <th></th>\n",
              "      <th></th>\n",
              "      <th></th>\n",
              "      <th></th>\n",
              "      <th></th>\n",
              "      <th></th>\n",
              "      <th></th>\n",
              "      <th></th>\n",
              "      <th></th>\n",
              "      <th></th>\n",
              "      <th></th>\n",
              "      <th></th>\n",
              "      <th></th>\n",
              "      <th></th>\n",
              "      <th></th>\n",
              "      <th></th>\n",
              "      <th></th>\n",
              "      <th></th>\n",
              "      <th></th>\n",
              "      <th></th>\n",
              "      <th></th>\n",
              "      <th></th>\n",
              "    </tr>\n",
              "  </thead>\n",
              "  <tbody>\n",
              "    <tr>\n",
              "      <th>1</th>\n",
              "      <td>NaN</td>\n",
              "      <td>NaN</td>\n",
              "      <td>NaN</td>\n",
              "      <td>NaN</td>\n",
              "      <td>NaN</td>\n",
              "      <td>NaN</td>\n",
              "      <td>NaN</td>\n",
              "      <td>NaN</td>\n",
              "      <td>NaN</td>\n",
              "      <td>NaN</td>\n",
              "      <td>NaN</td>\n",
              "      <td>NaN</td>\n",
              "      <td>NaN</td>\n",
              "      <td>NaN</td>\n",
              "      <td>NaN</td>\n",
              "      <td>NaN</td>\n",
              "      <td>NaN</td>\n",
              "      <td>NaN</td>\n",
              "      <td>NaN</td>\n",
              "      <td>NaN</td>\n",
              "      <td>NaN</td>\n",
              "      <td>NaN</td>\n",
              "      <td>NaN</td>\n",
              "      <td>NaN</td>\n",
              "      <td>NaN</td>\n",
              "      <td>NaN</td>\n",
              "      <td>NaN</td>\n",
              "      <td>NaN</td>\n",
              "      <td>NaN</td>\n",
              "      <td>NaN</td>\n",
              "      <td>NaN</td>\n",
              "      <td>NaN</td>\n",
              "      <td>NaN</td>\n",
              "      <td>NaN</td>\n",
              "      <td>NaN</td>\n",
              "      <td>NaN</td>\n",
              "      <td>NaN</td>\n",
              "      <td>NaN</td>\n",
              "      <td>NaN</td>\n",
              "      <td>NaN</td>\n",
              "      <td>...</td>\n",
              "      <td>NaN</td>\n",
              "      <td>NaN</td>\n",
              "      <td>NaN</td>\n",
              "      <td>NaN</td>\n",
              "      <td>NaN</td>\n",
              "      <td>NaN</td>\n",
              "      <td>NaN</td>\n",
              "      <td>NaN</td>\n",
              "      <td>NaN</td>\n",
              "      <td>NaN</td>\n",
              "      <td>NaN</td>\n",
              "      <td>NaN</td>\n",
              "      <td>NaN</td>\n",
              "      <td>NaN</td>\n",
              "      <td>NaN</td>\n",
              "      <td>NaN</td>\n",
              "      <td>NaN</td>\n",
              "      <td>NaN</td>\n",
              "      <td>NaN</td>\n",
              "      <td>NaN</td>\n",
              "      <td>NaN</td>\n",
              "      <td>NaN</td>\n",
              "      <td>NaN</td>\n",
              "      <td>NaN</td>\n",
              "      <td>NaN</td>\n",
              "      <td>NaN</td>\n",
              "      <td>NaN</td>\n",
              "      <td>NaN</td>\n",
              "      <td>NaN</td>\n",
              "      <td>NaN</td>\n",
              "      <td>NaN</td>\n",
              "      <td>NaN</td>\n",
              "      <td>NaN</td>\n",
              "      <td>NaN</td>\n",
              "      <td>NaN</td>\n",
              "      <td>NaN</td>\n",
              "      <td>NaN</td>\n",
              "      <td>NaN</td>\n",
              "      <td>4.0</td>\n",
              "      <td>NaN</td>\n",
              "    </tr>\n",
              "    <tr>\n",
              "      <th>2</th>\n",
              "      <td>NaN</td>\n",
              "      <td>NaN</td>\n",
              "      <td>NaN</td>\n",
              "      <td>NaN</td>\n",
              "      <td>NaN</td>\n",
              "      <td>NaN</td>\n",
              "      <td>NaN</td>\n",
              "      <td>NaN</td>\n",
              "      <td>NaN</td>\n",
              "      <td>NaN</td>\n",
              "      <td>NaN</td>\n",
              "      <td>NaN</td>\n",
              "      <td>NaN</td>\n",
              "      <td>NaN</td>\n",
              "      <td>NaN</td>\n",
              "      <td>NaN</td>\n",
              "      <td>NaN</td>\n",
              "      <td>NaN</td>\n",
              "      <td>NaN</td>\n",
              "      <td>NaN</td>\n",
              "      <td>NaN</td>\n",
              "      <td>NaN</td>\n",
              "      <td>NaN</td>\n",
              "      <td>NaN</td>\n",
              "      <td>NaN</td>\n",
              "      <td>NaN</td>\n",
              "      <td>NaN</td>\n",
              "      <td>NaN</td>\n",
              "      <td>NaN</td>\n",
              "      <td>NaN</td>\n",
              "      <td>NaN</td>\n",
              "      <td>NaN</td>\n",
              "      <td>NaN</td>\n",
              "      <td>NaN</td>\n",
              "      <td>NaN</td>\n",
              "      <td>NaN</td>\n",
              "      <td>NaN</td>\n",
              "      <td>NaN</td>\n",
              "      <td>NaN</td>\n",
              "      <td>NaN</td>\n",
              "      <td>...</td>\n",
              "      <td>NaN</td>\n",
              "      <td>NaN</td>\n",
              "      <td>NaN</td>\n",
              "      <td>NaN</td>\n",
              "      <td>NaN</td>\n",
              "      <td>NaN</td>\n",
              "      <td>NaN</td>\n",
              "      <td>NaN</td>\n",
              "      <td>NaN</td>\n",
              "      <td>NaN</td>\n",
              "      <td>NaN</td>\n",
              "      <td>NaN</td>\n",
              "      <td>NaN</td>\n",
              "      <td>NaN</td>\n",
              "      <td>NaN</td>\n",
              "      <td>NaN</td>\n",
              "      <td>NaN</td>\n",
              "      <td>NaN</td>\n",
              "      <td>NaN</td>\n",
              "      <td>NaN</td>\n",
              "      <td>3.0</td>\n",
              "      <td>NaN</td>\n",
              "      <td>NaN</td>\n",
              "      <td>NaN</td>\n",
              "      <td>NaN</td>\n",
              "      <td>NaN</td>\n",
              "      <td>NaN</td>\n",
              "      <td>NaN</td>\n",
              "      <td>NaN</td>\n",
              "      <td>NaN</td>\n",
              "      <td>NaN</td>\n",
              "      <td>NaN</td>\n",
              "      <td>NaN</td>\n",
              "      <td>NaN</td>\n",
              "      <td>NaN</td>\n",
              "      <td>NaN</td>\n",
              "      <td>NaN</td>\n",
              "      <td>NaN</td>\n",
              "      <td>NaN</td>\n",
              "      <td>NaN</td>\n",
              "    </tr>\n",
              "    <tr>\n",
              "      <th>3</th>\n",
              "      <td>NaN</td>\n",
              "      <td>NaN</td>\n",
              "      <td>NaN</td>\n",
              "      <td>NaN</td>\n",
              "      <td>NaN</td>\n",
              "      <td>NaN</td>\n",
              "      <td>NaN</td>\n",
              "      <td>NaN</td>\n",
              "      <td>NaN</td>\n",
              "      <td>NaN</td>\n",
              "      <td>NaN</td>\n",
              "      <td>NaN</td>\n",
              "      <td>NaN</td>\n",
              "      <td>NaN</td>\n",
              "      <td>NaN</td>\n",
              "      <td>NaN</td>\n",
              "      <td>NaN</td>\n",
              "      <td>NaN</td>\n",
              "      <td>NaN</td>\n",
              "      <td>NaN</td>\n",
              "      <td>NaN</td>\n",
              "      <td>NaN</td>\n",
              "      <td>NaN</td>\n",
              "      <td>NaN</td>\n",
              "      <td>NaN</td>\n",
              "      <td>NaN</td>\n",
              "      <td>NaN</td>\n",
              "      <td>NaN</td>\n",
              "      <td>NaN</td>\n",
              "      <td>NaN</td>\n",
              "      <td>NaN</td>\n",
              "      <td>NaN</td>\n",
              "      <td>NaN</td>\n",
              "      <td>NaN</td>\n",
              "      <td>NaN</td>\n",
              "      <td>NaN</td>\n",
              "      <td>NaN</td>\n",
              "      <td>NaN</td>\n",
              "      <td>NaN</td>\n",
              "      <td>NaN</td>\n",
              "      <td>...</td>\n",
              "      <td>NaN</td>\n",
              "      <td>NaN</td>\n",
              "      <td>NaN</td>\n",
              "      <td>NaN</td>\n",
              "      <td>NaN</td>\n",
              "      <td>NaN</td>\n",
              "      <td>NaN</td>\n",
              "      <td>NaN</td>\n",
              "      <td>NaN</td>\n",
              "      <td>NaN</td>\n",
              "      <td>NaN</td>\n",
              "      <td>NaN</td>\n",
              "      <td>NaN</td>\n",
              "      <td>NaN</td>\n",
              "      <td>NaN</td>\n",
              "      <td>NaN</td>\n",
              "      <td>NaN</td>\n",
              "      <td>NaN</td>\n",
              "      <td>NaN</td>\n",
              "      <td>NaN</td>\n",
              "      <td>NaN</td>\n",
              "      <td>NaN</td>\n",
              "      <td>NaN</td>\n",
              "      <td>NaN</td>\n",
              "      <td>NaN</td>\n",
              "      <td>NaN</td>\n",
              "      <td>NaN</td>\n",
              "      <td>NaN</td>\n",
              "      <td>NaN</td>\n",
              "      <td>NaN</td>\n",
              "      <td>NaN</td>\n",
              "      <td>NaN</td>\n",
              "      <td>NaN</td>\n",
              "      <td>NaN</td>\n",
              "      <td>NaN</td>\n",
              "      <td>NaN</td>\n",
              "      <td>NaN</td>\n",
              "      <td>NaN</td>\n",
              "      <td>NaN</td>\n",
              "      <td>NaN</td>\n",
              "    </tr>\n",
              "    <tr>\n",
              "      <th>4</th>\n",
              "      <td>NaN</td>\n",
              "      <td>NaN</td>\n",
              "      <td>NaN</td>\n",
              "      <td>NaN</td>\n",
              "      <td>NaN</td>\n",
              "      <td>NaN</td>\n",
              "      <td>NaN</td>\n",
              "      <td>NaN</td>\n",
              "      <td>NaN</td>\n",
              "      <td>NaN</td>\n",
              "      <td>NaN</td>\n",
              "      <td>NaN</td>\n",
              "      <td>NaN</td>\n",
              "      <td>NaN</td>\n",
              "      <td>NaN</td>\n",
              "      <td>NaN</td>\n",
              "      <td>NaN</td>\n",
              "      <td>NaN</td>\n",
              "      <td>NaN</td>\n",
              "      <td>NaN</td>\n",
              "      <td>NaN</td>\n",
              "      <td>NaN</td>\n",
              "      <td>NaN</td>\n",
              "      <td>NaN</td>\n",
              "      <td>NaN</td>\n",
              "      <td>NaN</td>\n",
              "      <td>NaN</td>\n",
              "      <td>NaN</td>\n",
              "      <td>NaN</td>\n",
              "      <td>NaN</td>\n",
              "      <td>NaN</td>\n",
              "      <td>NaN</td>\n",
              "      <td>NaN</td>\n",
              "      <td>NaN</td>\n",
              "      <td>5.0</td>\n",
              "      <td>NaN</td>\n",
              "      <td>NaN</td>\n",
              "      <td>NaN</td>\n",
              "      <td>NaN</td>\n",
              "      <td>NaN</td>\n",
              "      <td>...</td>\n",
              "      <td>NaN</td>\n",
              "      <td>NaN</td>\n",
              "      <td>NaN</td>\n",
              "      <td>NaN</td>\n",
              "      <td>NaN</td>\n",
              "      <td>NaN</td>\n",
              "      <td>NaN</td>\n",
              "      <td>NaN</td>\n",
              "      <td>NaN</td>\n",
              "      <td>NaN</td>\n",
              "      <td>NaN</td>\n",
              "      <td>NaN</td>\n",
              "      <td>NaN</td>\n",
              "      <td>NaN</td>\n",
              "      <td>NaN</td>\n",
              "      <td>NaN</td>\n",
              "      <td>NaN</td>\n",
              "      <td>NaN</td>\n",
              "      <td>NaN</td>\n",
              "      <td>NaN</td>\n",
              "      <td>NaN</td>\n",
              "      <td>NaN</td>\n",
              "      <td>NaN</td>\n",
              "      <td>NaN</td>\n",
              "      <td>NaN</td>\n",
              "      <td>NaN</td>\n",
              "      <td>NaN</td>\n",
              "      <td>NaN</td>\n",
              "      <td>NaN</td>\n",
              "      <td>NaN</td>\n",
              "      <td>NaN</td>\n",
              "      <td>NaN</td>\n",
              "      <td>NaN</td>\n",
              "      <td>NaN</td>\n",
              "      <td>NaN</td>\n",
              "      <td>NaN</td>\n",
              "      <td>NaN</td>\n",
              "      <td>NaN</td>\n",
              "      <td>NaN</td>\n",
              "      <td>NaN</td>\n",
              "    </tr>\n",
              "    <tr>\n",
              "      <th>5</th>\n",
              "      <td>NaN</td>\n",
              "      <td>NaN</td>\n",
              "      <td>NaN</td>\n",
              "      <td>NaN</td>\n",
              "      <td>NaN</td>\n",
              "      <td>NaN</td>\n",
              "      <td>NaN</td>\n",
              "      <td>NaN</td>\n",
              "      <td>NaN</td>\n",
              "      <td>NaN</td>\n",
              "      <td>NaN</td>\n",
              "      <td>NaN</td>\n",
              "      <td>NaN</td>\n",
              "      <td>NaN</td>\n",
              "      <td>NaN</td>\n",
              "      <td>NaN</td>\n",
              "      <td>NaN</td>\n",
              "      <td>NaN</td>\n",
              "      <td>NaN</td>\n",
              "      <td>NaN</td>\n",
              "      <td>NaN</td>\n",
              "      <td>NaN</td>\n",
              "      <td>NaN</td>\n",
              "      <td>NaN</td>\n",
              "      <td>NaN</td>\n",
              "      <td>NaN</td>\n",
              "      <td>NaN</td>\n",
              "      <td>NaN</td>\n",
              "      <td>NaN</td>\n",
              "      <td>NaN</td>\n",
              "      <td>NaN</td>\n",
              "      <td>NaN</td>\n",
              "      <td>NaN</td>\n",
              "      <td>NaN</td>\n",
              "      <td>NaN</td>\n",
              "      <td>NaN</td>\n",
              "      <td>NaN</td>\n",
              "      <td>NaN</td>\n",
              "      <td>NaN</td>\n",
              "      <td>NaN</td>\n",
              "      <td>...</td>\n",
              "      <td>NaN</td>\n",
              "      <td>NaN</td>\n",
              "      <td>NaN</td>\n",
              "      <td>NaN</td>\n",
              "      <td>NaN</td>\n",
              "      <td>NaN</td>\n",
              "      <td>NaN</td>\n",
              "      <td>NaN</td>\n",
              "      <td>NaN</td>\n",
              "      <td>NaN</td>\n",
              "      <td>NaN</td>\n",
              "      <td>NaN</td>\n",
              "      <td>NaN</td>\n",
              "      <td>NaN</td>\n",
              "      <td>NaN</td>\n",
              "      <td>NaN</td>\n",
              "      <td>NaN</td>\n",
              "      <td>NaN</td>\n",
              "      <td>NaN</td>\n",
              "      <td>NaN</td>\n",
              "      <td>NaN</td>\n",
              "      <td>NaN</td>\n",
              "      <td>NaN</td>\n",
              "      <td>NaN</td>\n",
              "      <td>NaN</td>\n",
              "      <td>NaN</td>\n",
              "      <td>NaN</td>\n",
              "      <td>NaN</td>\n",
              "      <td>NaN</td>\n",
              "      <td>NaN</td>\n",
              "      <td>NaN</td>\n",
              "      <td>NaN</td>\n",
              "      <td>NaN</td>\n",
              "      <td>NaN</td>\n",
              "      <td>NaN</td>\n",
              "      <td>NaN</td>\n",
              "      <td>NaN</td>\n",
              "      <td>NaN</td>\n",
              "      <td>NaN</td>\n",
              "      <td>NaN</td>\n",
              "    </tr>\n",
              "  </tbody>\n",
              "</table>\n",
              "<p>5 rows × 9719 columns</p>\n",
              "</div>"
            ],
            "text/plain": [
              "title   '71 (2014)  ...  À nous la liberté (Freedom for Us) (1931)\n",
              "userId              ...                                           \n",
              "1              NaN  ...                                        NaN\n",
              "2              NaN  ...                                        NaN\n",
              "3              NaN  ...                                        NaN\n",
              "4              NaN  ...                                        NaN\n",
              "5              NaN  ...                                        NaN\n",
              "\n",
              "[5 rows x 9719 columns]"
            ]
          },
          "metadata": {
            "tags": []
          },
          "execution_count": 21
        }
      ]
    },
    {
      "cell_type": "markdown",
      "metadata": {
        "id": "dHmKjzdWS5f-"
      },
      "source": [
        "Grabbing the user ratings for some of the most rated movies. \n",
        "\n",
        "\n",
        " Star Wars: Episode IV - A New Hope (1977) -      A sci-fi movie"
      ]
    },
    {
      "cell_type": "code",
      "metadata": {
        "id": "R99nUi44RKXl",
        "outputId": "12e56293-3b1e-4242-e13b-6d7b84044660",
        "colab": {
          "base_uri": "https://localhost:8080/"
        }
      },
      "source": [
        "#getting the ratings\n",
        "Forrest_ratings = matrix['Forrest Gump (1994)']\n",
        "Star_ratings = matrix['Star Wars: Episode IV - A New Hope (1977)']\n",
        "\n",
        "Star_ratings.head()"
      ],
      "execution_count": 22,
      "outputs": [
        {
          "output_type": "execute_result",
          "data": {
            "text/plain": [
              "userId\n",
              "1    5.0\n",
              "2    NaN\n",
              "3    NaN\n",
              "4    5.0\n",
              "5    NaN\n",
              "Name: Star Wars: Episode IV - A New Hope (1977), dtype: float64"
            ]
          },
          "metadata": {
            "tags": []
          },
          "execution_count": 22
        }
      ]
    },
    {
      "cell_type": "markdown",
      "metadata": {
        "id": "4auEwL2XT0Hc"
      },
      "source": [
        "Corrwith(), method can be used to get the correlations between the two panda series."
      ]
    },
    {
      "cell_type": "code",
      "metadata": {
        "id": "e2s4MigdRKjs",
        "outputId": "b8c94240-b1d5-410e-b411-d087afad0b55",
        "colab": {
          "base_uri": "https://localhost:8080/"
        }
      },
      "source": [
        "#getting the similarities\n",
        "similar_to_Stars = matrix.corrwith(Star_ratings)\n"
      ],
      "execution_count": 23,
      "outputs": [
        {
          "output_type": "stream",
          "text": [
            "/usr/local/lib/python3.6/dist-packages/numpy/lib/function_base.py:2526: RuntimeWarning: Degrees of freedom <= 0 for slice\n",
            "  c = cov(x, y, rowvar)\n",
            "/usr/local/lib/python3.6/dist-packages/numpy/lib/function_base.py:2455: RuntimeWarning: divide by zero encountered in true_divide\n",
            "  c *= np.true_divide(1, fact)\n"
          ],
          "name": "stderr"
        }
      ]
    },
    {
      "cell_type": "code",
      "metadata": {
        "id": "WTE10lzkRKvO",
        "outputId": "b3bc7938-3876-4da2-bdb3-56aac52269e0",
        "colab": {
          "base_uri": "https://localhost:8080/",
          "height": 235
        }
      },
      "source": [
        "#removing NaN values\n",
        "corr_starwars = pd.DataFrame(similar_to_Stars,columns=['Correlation'])\n",
        "corr_starwars.dropna(inplace=True)\n",
        "corr_starwars.head()"
      ],
      "execution_count": 24,
      "outputs": [
        {
          "output_type": "execute_result",
          "data": {
            "text/html": [
              "<div>\n",
              "<style scoped>\n",
              "    .dataframe tbody tr th:only-of-type {\n",
              "        vertical-align: middle;\n",
              "    }\n",
              "\n",
              "    .dataframe tbody tr th {\n",
              "        vertical-align: top;\n",
              "    }\n",
              "\n",
              "    .dataframe thead th {\n",
              "        text-align: right;\n",
              "    }\n",
              "</style>\n",
              "<table border=\"1\" class=\"dataframe\">\n",
              "  <thead>\n",
              "    <tr style=\"text-align: right;\">\n",
              "      <th></th>\n",
              "      <th>Correlation</th>\n",
              "    </tr>\n",
              "    <tr>\n",
              "      <th>title</th>\n",
              "      <th></th>\n",
              "    </tr>\n",
              "  </thead>\n",
              "  <tbody>\n",
              "    <tr>\n",
              "      <th>'burbs, The (1989)</th>\n",
              "      <td>0.155161</td>\n",
              "    </tr>\n",
              "    <tr>\n",
              "      <th>(500) Days of Summer (2009)</th>\n",
              "      <td>0.024299</td>\n",
              "    </tr>\n",
              "    <tr>\n",
              "      <th>*batteries not included (1987)</th>\n",
              "      <td>-0.269069</td>\n",
              "    </tr>\n",
              "    <tr>\n",
              "      <th>10 Cent Pistol (2015)</th>\n",
              "      <td>1.000000</td>\n",
              "    </tr>\n",
              "    <tr>\n",
              "      <th>10 Cloverfield Lane (2016)</th>\n",
              "      <td>0.360885</td>\n",
              "    </tr>\n",
              "  </tbody>\n",
              "</table>\n",
              "</div>"
            ],
            "text/plain": [
              "                                Correlation\n",
              "title                                      \n",
              "'burbs, The (1989)                 0.155161\n",
              "(500) Days of Summer (2009)        0.024299\n",
              "*batteries not included (1987)    -0.269069\n",
              "10 Cent Pistol (2015)              1.000000\n",
              "10 Cloverfield Lane (2016)         0.360885"
            ]
          },
          "metadata": {
            "tags": []
          },
          "execution_count": 24
        }
      ]
    },
    {
      "cell_type": "code",
      "metadata": {
        "id": "ugZjdEdkRK0V",
        "outputId": "eacf0b46-f3d5-4c8b-8dc9-a75100741ea0",
        "colab": {
          "base_uri": "https://localhost:8080/",
          "height": 390
        }
      },
      "source": [
        "#sorting the correlation dataframe to get the most similar movies\n",
        "corr_starwars.sort_values('Correlation',ascending=False).head(10)"
      ],
      "execution_count": 25,
      "outputs": [
        {
          "output_type": "execute_result",
          "data": {
            "text/html": [
              "<div>\n",
              "<style scoped>\n",
              "    .dataframe tbody tr th:only-of-type {\n",
              "        vertical-align: middle;\n",
              "    }\n",
              "\n",
              "    .dataframe tbody tr th {\n",
              "        vertical-align: top;\n",
              "    }\n",
              "\n",
              "    .dataframe thead th {\n",
              "        text-align: right;\n",
              "    }\n",
              "</style>\n",
              "<table border=\"1\" class=\"dataframe\">\n",
              "  <thead>\n",
              "    <tr style=\"text-align: right;\">\n",
              "      <th></th>\n",
              "      <th>Correlation</th>\n",
              "    </tr>\n",
              "    <tr>\n",
              "      <th>title</th>\n",
              "      <th></th>\n",
              "    </tr>\n",
              "  </thead>\n",
              "  <tbody>\n",
              "    <tr>\n",
              "      <th>Lakeview Terrace (2008)</th>\n",
              "      <td>1.0</td>\n",
              "    </tr>\n",
              "    <tr>\n",
              "      <th>Cry_Wolf (a.k.a. Cry Wolf) (2005)</th>\n",
              "      <td>1.0</td>\n",
              "    </tr>\n",
              "    <tr>\n",
              "      <th>Creep (2014)</th>\n",
              "      <td>1.0</td>\n",
              "    </tr>\n",
              "    <tr>\n",
              "      <th>Non-Stop (2014)</th>\n",
              "      <td>1.0</td>\n",
              "    </tr>\n",
              "    <tr>\n",
              "      <th>Not Without My Daughter (1991)</th>\n",
              "      <td>1.0</td>\n",
              "    </tr>\n",
              "    <tr>\n",
              "      <th>Confessions of a Teenage Drama Queen (2004)</th>\n",
              "      <td>1.0</td>\n",
              "    </tr>\n",
              "    <tr>\n",
              "      <th>Concussion (2015)</th>\n",
              "      <td>1.0</td>\n",
              "    </tr>\n",
              "    <tr>\n",
              "      <th>Opera (1987)</th>\n",
              "      <td>1.0</td>\n",
              "    </tr>\n",
              "    <tr>\n",
              "      <th>Our Hospitality (1923)</th>\n",
              "      <td>1.0</td>\n",
              "    </tr>\n",
              "    <tr>\n",
              "      <th>Outlander (2008)</th>\n",
              "      <td>1.0</td>\n",
              "    </tr>\n",
              "  </tbody>\n",
              "</table>\n",
              "</div>"
            ],
            "text/plain": [
              "                                             Correlation\n",
              "title                                                   \n",
              "Lakeview Terrace (2008)                              1.0\n",
              "Cry_Wolf (a.k.a. Cry Wolf) (2005)                    1.0\n",
              "Creep (2014)                                         1.0\n",
              "Non-Stop (2014)                                      1.0\n",
              "Not Without My Daughter (1991)                       1.0\n",
              "Confessions of a Teenage Drama Queen (2004)          1.0\n",
              "Concussion (2015)                                    1.0\n",
              "Opera (1987)                                         1.0\n",
              "Our Hospitality (1923)                               1.0\n",
              "Outlander (2008)                                     1.0"
            ]
          },
          "metadata": {
            "tags": []
          },
          "execution_count": 25
        }
      ]
    },
    {
      "cell_type": "markdown",
      "metadata": {
        "id": "hftTn-7EWjf8"
      },
      "source": [
        "Some results clearly do not make sense such as Confessions of a Teenage Drama queen if selected by genre. This is because there are a lot of movies on;y watched bonce by isers who also watched star wars-given it is a popular movie.\n",
        "\n",
        "This can be fixed by filtering out the movies that have less than 100 reviews.\n",
        "\n"
      ]
    },
    {
      "cell_type": "code",
      "metadata": {
        "id": "-x-LVMSARK5-",
        "outputId": "f0518524-ee4b-46c1-cb23-7daf9e023f2f",
        "colab": {
          "base_uri": "https://localhost:8080/",
          "height": 235
        }
      },
      "source": [
        "corr_starwars = corr_starwars.join(grouped_df['num_of_ratings'])\n",
        "corr_starwars.head()\n"
      ],
      "execution_count": 26,
      "outputs": [
        {
          "output_type": "execute_result",
          "data": {
            "text/html": [
              "<div>\n",
              "<style scoped>\n",
              "    .dataframe tbody tr th:only-of-type {\n",
              "        vertical-align: middle;\n",
              "    }\n",
              "\n",
              "    .dataframe tbody tr th {\n",
              "        vertical-align: top;\n",
              "    }\n",
              "\n",
              "    .dataframe thead th {\n",
              "        text-align: right;\n",
              "    }\n",
              "</style>\n",
              "<table border=\"1\" class=\"dataframe\">\n",
              "  <thead>\n",
              "    <tr style=\"text-align: right;\">\n",
              "      <th></th>\n",
              "      <th>Correlation</th>\n",
              "      <th>num_of_ratings</th>\n",
              "    </tr>\n",
              "    <tr>\n",
              "      <th>title</th>\n",
              "      <th></th>\n",
              "      <th></th>\n",
              "    </tr>\n",
              "  </thead>\n",
              "  <tbody>\n",
              "    <tr>\n",
              "      <th>'burbs, The (1989)</th>\n",
              "      <td>0.155161</td>\n",
              "      <td>17</td>\n",
              "    </tr>\n",
              "    <tr>\n",
              "      <th>(500) Days of Summer (2009)</th>\n",
              "      <td>0.024299</td>\n",
              "      <td>42</td>\n",
              "    </tr>\n",
              "    <tr>\n",
              "      <th>*batteries not included (1987)</th>\n",
              "      <td>-0.269069</td>\n",
              "      <td>7</td>\n",
              "    </tr>\n",
              "    <tr>\n",
              "      <th>10 Cent Pistol (2015)</th>\n",
              "      <td>1.000000</td>\n",
              "      <td>2</td>\n",
              "    </tr>\n",
              "    <tr>\n",
              "      <th>10 Cloverfield Lane (2016)</th>\n",
              "      <td>0.360885</td>\n",
              "      <td>14</td>\n",
              "    </tr>\n",
              "  </tbody>\n",
              "</table>\n",
              "</div>"
            ],
            "text/plain": [
              "                                Correlation  num_of_ratings\n",
              "title                                                      \n",
              "'burbs, The (1989)                 0.155161              17\n",
              "(500) Days of Summer (2009)        0.024299              42\n",
              "*batteries not included (1987)    -0.269069               7\n",
              "10 Cent Pistol (2015)              1.000000               2\n",
              "10 Cloverfield Lane (2016)         0.360885              14"
            ]
          },
          "metadata": {
            "tags": []
          },
          "execution_count": 26
        }
      ]
    },
    {
      "cell_type": "code",
      "metadata": {
        "id": "B-aHnqUWRKx0",
        "outputId": "c1e54fac-4e03-4cd3-bc10-ab68c1ac9010",
        "colab": {
          "base_uri": "https://localhost:8080/",
          "height": 235
        }
      },
      "source": [
        "#filtering out the movies with less than 100 number of ratings\n",
        "corr_starwars[corr_starwars['num_of_ratings']>100].sort_values('Correlation',ascending=False).head()"
      ],
      "execution_count": 27,
      "outputs": [
        {
          "output_type": "execute_result",
          "data": {
            "text/html": [
              "<div>\n",
              "<style scoped>\n",
              "    .dataframe tbody tr th:only-of-type {\n",
              "        vertical-align: middle;\n",
              "    }\n",
              "\n",
              "    .dataframe tbody tr th {\n",
              "        vertical-align: top;\n",
              "    }\n",
              "\n",
              "    .dataframe thead th {\n",
              "        text-align: right;\n",
              "    }\n",
              "</style>\n",
              "<table border=\"1\" class=\"dataframe\">\n",
              "  <thead>\n",
              "    <tr style=\"text-align: right;\">\n",
              "      <th></th>\n",
              "      <th>Correlation</th>\n",
              "      <th>num_of_ratings</th>\n",
              "    </tr>\n",
              "    <tr>\n",
              "      <th>title</th>\n",
              "      <th></th>\n",
              "      <th></th>\n",
              "    </tr>\n",
              "  </thead>\n",
              "  <tbody>\n",
              "    <tr>\n",
              "      <th>Star Wars: Episode IV - A New Hope (1977)</th>\n",
              "      <td>1.000000</td>\n",
              "      <td>251</td>\n",
              "    </tr>\n",
              "    <tr>\n",
              "      <th>Star Wars: Episode V - The Empire Strikes Back (1980)</th>\n",
              "      <td>0.777970</td>\n",
              "      <td>211</td>\n",
              "    </tr>\n",
              "    <tr>\n",
              "      <th>Star Wars: Episode VI - Return of the Jedi (1983)</th>\n",
              "      <td>0.734230</td>\n",
              "      <td>196</td>\n",
              "    </tr>\n",
              "    <tr>\n",
              "      <th>Fugitive, The (1993)</th>\n",
              "      <td>0.482078</td>\n",
              "      <td>190</td>\n",
              "    </tr>\n",
              "    <tr>\n",
              "      <th>Indiana Jones and the Last Crusade (1989)</th>\n",
              "      <td>0.410916</td>\n",
              "      <td>140</td>\n",
              "    </tr>\n",
              "  </tbody>\n",
              "</table>\n",
              "</div>"
            ],
            "text/plain": [
              "                                                    Correlation  num_of_ratings\n",
              "title                                                                          \n",
              "Star Wars: Episode IV - A New Hope (1977)              1.000000             251\n",
              "Star Wars: Episode V - The Empire Strikes Back ...     0.777970             211\n",
              "Star Wars: Episode VI - Return of the Jedi (1983)      0.734230             196\n",
              "Fugitive, The (1993)                                   0.482078             190\n",
              "Indiana Jones and the Last Crusade (1989)              0.410916             140"
            ]
          },
          "metadata": {
            "tags": []
          },
          "execution_count": 27
        }
      ]
    },
    {
      "cell_type": "markdown",
      "metadata": {
        "id": "8ftK7qA4boq0"
      },
      "source": [
        "The recommendation here makes a lot of sense, compared to the earlier result. We can therefore create a function where on passing the name of the movie we can get movie recommendations."
      ]
    },
    {
      "cell_type": "code",
      "metadata": {
        "id": "Rnz0-EGQRKn1"
      },
      "source": [
        "#defining the function returns top 5 recommendations\n",
        "def movie_recommender(movie_title):\n",
        "  #getting the movie ratings\n",
        "  movie_ratings = matrix[movie_title]\n",
        "  #getting movies similar to the movie title\n",
        "  similar_to_movie = matrix.corrwith(movie_ratings)\n",
        "  #creating a dataframe\n",
        "  corr_movie = pd.DataFrame(similar_to_movie,columns=['Correlation'])\n",
        "  #removing NaN values\n",
        "  corr_movie.dropna(inplace=True)\n",
        "  #getting the number of ratings per movie title\n",
        "  corr_movie = corr_movie.join(grouped_df['num_of_ratings'])\n",
        "  #filtering for movie title with more than 20 ratings\n",
        "  return corr_movie[corr_movie['num_of_ratings']>100].sort_values('Correlation',ascending=False).head(6)\n"
      ],
      "execution_count": 28,
      "outputs": []
    },
    {
      "cell_type": "code",
      "metadata": {
        "id": "U1Pyl9D7RKhN",
        "outputId": "fd34cb64-e5f4-404a-a559-1138862c4776",
        "colab": {
          "base_uri": "https://localhost:8080/",
          "height": 354
        }
      },
      "source": [
        "# Recommendation for 'Pulp Fiction'\n",
        "movie_recommender('Pulp Fiction (1994)')"
      ],
      "execution_count": 29,
      "outputs": [
        {
          "output_type": "stream",
          "text": [
            "/usr/local/lib/python3.6/dist-packages/numpy/lib/function_base.py:2526: RuntimeWarning: Degrees of freedom <= 0 for slice\n",
            "  c = cov(x, y, rowvar)\n",
            "/usr/local/lib/python3.6/dist-packages/numpy/lib/function_base.py:2455: RuntimeWarning: divide by zero encountered in true_divide\n",
            "  c *= np.true_divide(1, fact)\n"
          ],
          "name": "stderr"
        },
        {
          "output_type": "execute_result",
          "data": {
            "text/html": [
              "<div>\n",
              "<style scoped>\n",
              "    .dataframe tbody tr th:only-of-type {\n",
              "        vertical-align: middle;\n",
              "    }\n",
              "\n",
              "    .dataframe tbody tr th {\n",
              "        vertical-align: top;\n",
              "    }\n",
              "\n",
              "    .dataframe thead th {\n",
              "        text-align: right;\n",
              "    }\n",
              "</style>\n",
              "<table border=\"1\" class=\"dataframe\">\n",
              "  <thead>\n",
              "    <tr style=\"text-align: right;\">\n",
              "      <th></th>\n",
              "      <th>Correlation</th>\n",
              "      <th>num_of_ratings</th>\n",
              "    </tr>\n",
              "    <tr>\n",
              "      <th>title</th>\n",
              "      <th></th>\n",
              "      <th></th>\n",
              "    </tr>\n",
              "  </thead>\n",
              "  <tbody>\n",
              "    <tr>\n",
              "      <th>Pulp Fiction (1994)</th>\n",
              "      <td>1.000000</td>\n",
              "      <td>307</td>\n",
              "    </tr>\n",
              "    <tr>\n",
              "      <th>Fight Club (1999)</th>\n",
              "      <td>0.543465</td>\n",
              "      <td>218</td>\n",
              "    </tr>\n",
              "    <tr>\n",
              "      <th>Kill Bill: Vol. 1 (2003)</th>\n",
              "      <td>0.504147</td>\n",
              "      <td>131</td>\n",
              "    </tr>\n",
              "    <tr>\n",
              "      <th>Trainspotting (1996)</th>\n",
              "      <td>0.437714</td>\n",
              "      <td>102</td>\n",
              "    </tr>\n",
              "    <tr>\n",
              "      <th>Kill Bill: Vol. 2 (2004)</th>\n",
              "      <td>0.421685</td>\n",
              "      <td>110</td>\n",
              "    </tr>\n",
              "    <tr>\n",
              "      <th>Usual Suspects, The (1995)</th>\n",
              "      <td>0.411700</td>\n",
              "      <td>204</td>\n",
              "    </tr>\n",
              "  </tbody>\n",
              "</table>\n",
              "</div>"
            ],
            "text/plain": [
              "                            Correlation  num_of_ratings\n",
              "title                                                  \n",
              "Pulp Fiction (1994)            1.000000             307\n",
              "Fight Club (1999)              0.543465             218\n",
              "Kill Bill: Vol. 1 (2003)       0.504147             131\n",
              "Trainspotting (1996)           0.437714             102\n",
              "Kill Bill: Vol. 2 (2004)       0.421685             110\n",
              "Usual Suspects, The (1995)     0.411700             204"
            ]
          },
          "metadata": {
            "tags": []
          },
          "execution_count": 29
        }
      ]
    },
    {
      "cell_type": "markdown",
      "metadata": {
        "id": "IEnIKJwLg6V9"
      },
      "source": [
        "From the above results, the recommender system seems to be quite accurate. The movies recommended are of from the same genre and others are by the same Director! Quentin Tarantino!"
      ]
    },
    {
      "cell_type": "code",
      "metadata": {
        "id": "k_2naeIobTTu",
        "outputId": "fe88fd27-a609-4c6d-9a4c-6c936e48f36d",
        "colab": {
          "base_uri": "https://localhost:8080/",
          "height": 354
        }
      },
      "source": [
        "# Recommendation for 'Toy Story (1995)'\n",
        "movie_recommender('Toy Story (1995)')"
      ],
      "execution_count": 30,
      "outputs": [
        {
          "output_type": "stream",
          "text": [
            "/usr/local/lib/python3.6/dist-packages/numpy/lib/function_base.py:2526: RuntimeWarning: Degrees of freedom <= 0 for slice\n",
            "  c = cov(x, y, rowvar)\n",
            "/usr/local/lib/python3.6/dist-packages/numpy/lib/function_base.py:2455: RuntimeWarning: divide by zero encountered in true_divide\n",
            "  c *= np.true_divide(1, fact)\n"
          ],
          "name": "stderr"
        },
        {
          "output_type": "execute_result",
          "data": {
            "text/html": [
              "<div>\n",
              "<style scoped>\n",
              "    .dataframe tbody tr th:only-of-type {\n",
              "        vertical-align: middle;\n",
              "    }\n",
              "\n",
              "    .dataframe tbody tr th {\n",
              "        vertical-align: top;\n",
              "    }\n",
              "\n",
              "    .dataframe thead th {\n",
              "        text-align: right;\n",
              "    }\n",
              "</style>\n",
              "<table border=\"1\" class=\"dataframe\">\n",
              "  <thead>\n",
              "    <tr style=\"text-align: right;\">\n",
              "      <th></th>\n",
              "      <th>Correlation</th>\n",
              "      <th>num_of_ratings</th>\n",
              "    </tr>\n",
              "    <tr>\n",
              "      <th>title</th>\n",
              "      <th></th>\n",
              "      <th></th>\n",
              "    </tr>\n",
              "  </thead>\n",
              "  <tbody>\n",
              "    <tr>\n",
              "      <th>Toy Story (1995)</th>\n",
              "      <td>1.000000</td>\n",
              "      <td>215</td>\n",
              "    </tr>\n",
              "    <tr>\n",
              "      <th>Incredibles, The (2004)</th>\n",
              "      <td>0.643301</td>\n",
              "      <td>125</td>\n",
              "    </tr>\n",
              "    <tr>\n",
              "      <th>Finding Nemo (2003)</th>\n",
              "      <td>0.618701</td>\n",
              "      <td>141</td>\n",
              "    </tr>\n",
              "    <tr>\n",
              "      <th>Aladdin (1992)</th>\n",
              "      <td>0.611892</td>\n",
              "      <td>183</td>\n",
              "    </tr>\n",
              "    <tr>\n",
              "      <th>Monsters, Inc. (2001)</th>\n",
              "      <td>0.490231</td>\n",
              "      <td>132</td>\n",
              "    </tr>\n",
              "    <tr>\n",
              "      <th>Mrs. Doubtfire (1993)</th>\n",
              "      <td>0.446261</td>\n",
              "      <td>144</td>\n",
              "    </tr>\n",
              "  </tbody>\n",
              "</table>\n",
              "</div>"
            ],
            "text/plain": [
              "                         Correlation  num_of_ratings\n",
              "title                                               \n",
              "Toy Story (1995)            1.000000             215\n",
              "Incredibles, The (2004)     0.643301             125\n",
              "Finding Nemo (2003)         0.618701             141\n",
              "Aladdin (1992)              0.611892             183\n",
              "Monsters, Inc. (2001)       0.490231             132\n",
              "Mrs. Doubtfire (1993)       0.446261             144"
            ]
          },
          "metadata": {
            "tags": []
          },
          "execution_count": 30
        }
      ]
    },
    {
      "cell_type": "markdown",
      "metadata": {
        "id": "E4XnYkvhhss0"
      },
      "source": [
        "The system has recommended the same genre- Animation. The recommender seems to be performing well."
      ]
    },
    {
      "cell_type": "code",
      "metadata": {
        "id": "LUrmtI9FbTgu",
        "outputId": "72ebb476-5269-4c24-d33b-8207623a8332",
        "colab": {
          "base_uri": "https://localhost:8080/",
          "height": 354
        }
      },
      "source": [
        "# Recommendation for 'Lord of the Rings: The Fellowship of the Ring, The (2001))'\n",
        "movie_recommender('Lord of the Rings: The Fellowship of the Ring, The (2001)')"
      ],
      "execution_count": 31,
      "outputs": [
        {
          "output_type": "stream",
          "text": [
            "/usr/local/lib/python3.6/dist-packages/numpy/lib/function_base.py:2526: RuntimeWarning: Degrees of freedom <= 0 for slice\n",
            "  c = cov(x, y, rowvar)\n",
            "/usr/local/lib/python3.6/dist-packages/numpy/lib/function_base.py:2455: RuntimeWarning: divide by zero encountered in true_divide\n",
            "  c *= np.true_divide(1, fact)\n"
          ],
          "name": "stderr"
        },
        {
          "output_type": "execute_result",
          "data": {
            "text/html": [
              "<div>\n",
              "<style scoped>\n",
              "    .dataframe tbody tr th:only-of-type {\n",
              "        vertical-align: middle;\n",
              "    }\n",
              "\n",
              "    .dataframe tbody tr th {\n",
              "        vertical-align: top;\n",
              "    }\n",
              "\n",
              "    .dataframe thead th {\n",
              "        text-align: right;\n",
              "    }\n",
              "</style>\n",
              "<table border=\"1\" class=\"dataframe\">\n",
              "  <thead>\n",
              "    <tr style=\"text-align: right;\">\n",
              "      <th></th>\n",
              "      <th>Correlation</th>\n",
              "      <th>num_of_ratings</th>\n",
              "    </tr>\n",
              "    <tr>\n",
              "      <th>title</th>\n",
              "      <th></th>\n",
              "      <th></th>\n",
              "    </tr>\n",
              "  </thead>\n",
              "  <tbody>\n",
              "    <tr>\n",
              "      <th>Lord of the Rings: The Fellowship of the Ring, The (2001)</th>\n",
              "      <td>1.000000</td>\n",
              "      <td>198</td>\n",
              "    </tr>\n",
              "    <tr>\n",
              "      <th>Lord of the Rings: The Two Towers, The (2002)</th>\n",
              "      <td>0.887301</td>\n",
              "      <td>188</td>\n",
              "    </tr>\n",
              "    <tr>\n",
              "      <th>Lord of the Rings: The Return of the King, The (2003)</th>\n",
              "      <td>0.849939</td>\n",
              "      <td>185</td>\n",
              "    </tr>\n",
              "    <tr>\n",
              "      <th>Indiana Jones and the Last Crusade (1989)</th>\n",
              "      <td>0.440996</td>\n",
              "      <td>140</td>\n",
              "    </tr>\n",
              "    <tr>\n",
              "      <th>Alien (1979)</th>\n",
              "      <td>0.396209</td>\n",
              "      <td>146</td>\n",
              "    </tr>\n",
              "    <tr>\n",
              "      <th>Outbreak (1995)</th>\n",
              "      <td>0.393474</td>\n",
              "      <td>101</td>\n",
              "    </tr>\n",
              "  </tbody>\n",
              "</table>\n",
              "</div>"
            ],
            "text/plain": [
              "                                                    Correlation  num_of_ratings\n",
              "title                                                                          \n",
              "Lord of the Rings: The Fellowship of the Ring, ...     1.000000             198\n",
              "Lord of the Rings: The Two Towers, The (2002)          0.887301             188\n",
              "Lord of the Rings: The Return of the King, The ...     0.849939             185\n",
              "Indiana Jones and the Last Crusade (1989)              0.440996             140\n",
              "Alien (1979)                                           0.396209             146\n",
              "Outbreak (1995)                                        0.393474             101"
            ]
          },
          "metadata": {
            "tags": []
          },
          "execution_count": 31
        }
      ]
    },
    {
      "cell_type": "markdown",
      "metadata": {
        "id": "yY0jpNOMiJ-C"
      },
      "source": [
        "The recommender seems to perform, well here too. However this method is not as robust therefore the is need to use other advanced models."
      ]
    },
    {
      "cell_type": "markdown",
      "metadata": {
        "id": "2XPjQkvHieIS"
      },
      "source": [
        "### **Part 2: Using Surprise**\n",
        "\n",
        "[Surprise](https://http://surpriselib.com/) is a python scikit for building and analyzing recommender systems that deal with explicit rating data.\n",
        "\n",
        "Surprise has a set of builtin datasets, but one can still use a custom dataset. Loading a rating dataset can either be done from a file or a pandas dataframe. One needs to define a Reader object for Surprise to be able to parse the file or dataframe.\n",
        "\n",
        "Check [here ](https://surprise.readthedocs.io/en/stable/getting_started.html#use-a-custom-dataset)for more details:"
      ]
    },
    {
      "cell_type": "code",
      "metadata": {
        "id": "tRympdOzbTZl",
        "outputId": "63681603-9cc8-4a88-e89d-5164e4a97b82",
        "colab": {
          "base_uri": "https://localhost:8080/",
          "height": 204
        }
      },
      "source": [
        "#ratings dataset\n",
        "ratings_df.head()"
      ],
      "execution_count": 32,
      "outputs": [
        {
          "output_type": "execute_result",
          "data": {
            "text/html": [
              "<div>\n",
              "<style scoped>\n",
              "    .dataframe tbody tr th:only-of-type {\n",
              "        vertical-align: middle;\n",
              "    }\n",
              "\n",
              "    .dataframe tbody tr th {\n",
              "        vertical-align: top;\n",
              "    }\n",
              "\n",
              "    .dataframe thead th {\n",
              "        text-align: right;\n",
              "    }\n",
              "</style>\n",
              "<table border=\"1\" class=\"dataframe\">\n",
              "  <thead>\n",
              "    <tr style=\"text-align: right;\">\n",
              "      <th></th>\n",
              "      <th>userId</th>\n",
              "      <th>movieId</th>\n",
              "      <th>rating</th>\n",
              "      <th>timestamp</th>\n",
              "    </tr>\n",
              "  </thead>\n",
              "  <tbody>\n",
              "    <tr>\n",
              "      <th>0</th>\n",
              "      <td>1</td>\n",
              "      <td>1</td>\n",
              "      <td>4.0</td>\n",
              "      <td>964982703</td>\n",
              "    </tr>\n",
              "    <tr>\n",
              "      <th>1</th>\n",
              "      <td>1</td>\n",
              "      <td>3</td>\n",
              "      <td>4.0</td>\n",
              "      <td>964981247</td>\n",
              "    </tr>\n",
              "    <tr>\n",
              "      <th>2</th>\n",
              "      <td>1</td>\n",
              "      <td>6</td>\n",
              "      <td>4.0</td>\n",
              "      <td>964982224</td>\n",
              "    </tr>\n",
              "    <tr>\n",
              "      <th>3</th>\n",
              "      <td>1</td>\n",
              "      <td>47</td>\n",
              "      <td>5.0</td>\n",
              "      <td>964983815</td>\n",
              "    </tr>\n",
              "    <tr>\n",
              "      <th>4</th>\n",
              "      <td>1</td>\n",
              "      <td>50</td>\n",
              "      <td>5.0</td>\n",
              "      <td>964982931</td>\n",
              "    </tr>\n",
              "  </tbody>\n",
              "</table>\n",
              "</div>"
            ],
            "text/plain": [
              "   userId  movieId  rating  timestamp\n",
              "0       1        1     4.0  964982703\n",
              "1       1        3     4.0  964981247\n",
              "2       1        6     4.0  964982224\n",
              "3       1       47     5.0  964983815\n",
              "4       1       50     5.0  964982931"
            ]
          },
          "metadata": {
            "tags": []
          },
          "execution_count": 32
        }
      ]
    },
    {
      "cell_type": "code",
      "metadata": {
        "id": "6b12WqSSmoih",
        "outputId": "76cd1f62-331c-4558-fb22-ff21f27ef41f",
        "colab": {
          "base_uri": "https://localhost:8080/",
          "height": 204
        }
      },
      "source": [
        "#creating the dataframe to be used with Surprise\n",
        "ratings_dict = {'userID': list(ratings_df.userId),\n",
        "                'itemID': list(ratings_df.movieId),\n",
        "                'rating': list(ratings_df.rating)}\n",
        "\n",
        "df = pd.DataFrame(ratings_dict)\n",
        "df.head()"
      ],
      "execution_count": 81,
      "outputs": [
        {
          "output_type": "execute_result",
          "data": {
            "text/html": [
              "<div>\n",
              "<style scoped>\n",
              "    .dataframe tbody tr th:only-of-type {\n",
              "        vertical-align: middle;\n",
              "    }\n",
              "\n",
              "    .dataframe tbody tr th {\n",
              "        vertical-align: top;\n",
              "    }\n",
              "\n",
              "    .dataframe thead th {\n",
              "        text-align: right;\n",
              "    }\n",
              "</style>\n",
              "<table border=\"1\" class=\"dataframe\">\n",
              "  <thead>\n",
              "    <tr style=\"text-align: right;\">\n",
              "      <th></th>\n",
              "      <th>userID</th>\n",
              "      <th>itemID</th>\n",
              "      <th>rating</th>\n",
              "    </tr>\n",
              "  </thead>\n",
              "  <tbody>\n",
              "    <tr>\n",
              "      <th>0</th>\n",
              "      <td>1</td>\n",
              "      <td>1</td>\n",
              "      <td>4.0</td>\n",
              "    </tr>\n",
              "    <tr>\n",
              "      <th>1</th>\n",
              "      <td>1</td>\n",
              "      <td>3</td>\n",
              "      <td>4.0</td>\n",
              "    </tr>\n",
              "    <tr>\n",
              "      <th>2</th>\n",
              "      <td>1</td>\n",
              "      <td>6</td>\n",
              "      <td>4.0</td>\n",
              "    </tr>\n",
              "    <tr>\n",
              "      <th>3</th>\n",
              "      <td>1</td>\n",
              "      <td>47</td>\n",
              "      <td>5.0</td>\n",
              "    </tr>\n",
              "    <tr>\n",
              "      <th>4</th>\n",
              "      <td>1</td>\n",
              "      <td>50</td>\n",
              "      <td>5.0</td>\n",
              "    </tr>\n",
              "  </tbody>\n",
              "</table>\n",
              "</div>"
            ],
            "text/plain": [
              "   userID  itemID  rating\n",
              "0       1       1     4.0\n",
              "1       1       3     4.0\n",
              "2       1       6     4.0\n",
              "3       1      47     5.0\n",
              "4       1      50     5.0"
            ]
          },
          "metadata": {
            "tags": []
          },
          "execution_count": 81
        }
      ]
    },
    {
      "cell_type": "code",
      "metadata": {
        "id": "vCyzxPThbTP4"
      },
      "source": [
        "#creating a reader object only with the rating scale parameter\n",
        "reader = Reader(rating_scale=(0.5, 5.0))\n",
        "#loading the dataset from pandas dataframe\n",
        "data = Dataset.load_from_df(df[['userID', 'itemID', 'rating']], reader)\n"
      ],
      "execution_count": 82,
      "outputs": []
    },
    {
      "cell_type": "markdown",
      "metadata": {
        "id": "8kmg-a1MpPVi"
      },
      "source": [
        "\n",
        "\n",
        "Surprise provides a bunch of built-in algorithms.Some algorithms may use baseline estimates while some may use similarity measure. These are the algorithms whose performance will be compared. RMSE is used as the accuracy metric for the predictions.\n",
        "\n",
        "**1: Normal Predictor:** It predicts a random rating based on the distribution of the training set, which is assumed to be normal.\n",
        "It's a basic algorithm that does not do much work but that is still useful for comparing accuracies.\n",
        "\n",
        "**2: SVD:** It got popularized by Simon Funk during the Netflix prize and is a Matrix Factorized algorithm. If baselines are not used, it is equivalent to PMF.\n",
        "\n",
        "**3: NMF:** It is based on Non-negative matrix factorization and is similar to SVD.\n",
        "\n",
        "**4: KNN Basic:** This is a basic collaborative filtering algorithm method."
      ]
    },
    {
      "cell_type": "code",
      "metadata": {
        "id": "YrBhdYnnoyXJ",
        "outputId": "fd6bc72b-bc42-45c3-c748-90066f486d9d",
        "colab": {
          "base_uri": "https://localhost:8080/"
        }
      },
      "source": [
        "#developing a benchmark\n",
        "benchmark = []\n",
        "\n",
        "for algo in [SVD(),NMF(),NormalPredictor(),KNNBasic()]:\n",
        "  #performing cross validation\n",
        "  results = cross_validate(algo,data,measures=['RMSE'],cv=3,verbose = False)\n",
        "\n",
        "  #Getting the results\n",
        "  tmp = pd.DataFrame.from_dict(results).mean(axis=0)\n",
        "  tmp = tmp.append(pd.Series([str(algo).split(' ')[0].split('.')[-1]],index=['Algorithm']))\n",
        "  benchmark.append(tmp)"
      ],
      "execution_count": 83,
      "outputs": [
        {
          "output_type": "stream",
          "text": [
            "Computing the msd similarity matrix...\n",
            "Done computing similarity matrix.\n",
            "Computing the msd similarity matrix...\n",
            "Done computing similarity matrix.\n",
            "Computing the msd similarity matrix...\n",
            "Done computing similarity matrix.\n"
          ],
          "name": "stdout"
        }
      ]
    },
    {
      "cell_type": "code",
      "metadata": {
        "id": "3KdhRkMHpbH1",
        "outputId": "ff74870d-b72c-45bd-8454-acff51d8aac6",
        "colab": {
          "base_uri": "https://localhost:8080/",
          "height": 204
        }
      },
      "source": [
        "# converting the results into a dataframe\n",
        "surprise_results = pd.DataFrame(benchmark).set_index('Algorithm').sort_values('test_rmse')\n",
        "surprise_results"
      ],
      "execution_count": 84,
      "outputs": [
        {
          "output_type": "execute_result",
          "data": {
            "text/html": [
              "<div>\n",
              "<style scoped>\n",
              "    .dataframe tbody tr th:only-of-type {\n",
              "        vertical-align: middle;\n",
              "    }\n",
              "\n",
              "    .dataframe tbody tr th {\n",
              "        vertical-align: top;\n",
              "    }\n",
              "\n",
              "    .dataframe thead th {\n",
              "        text-align: right;\n",
              "    }\n",
              "</style>\n",
              "<table border=\"1\" class=\"dataframe\">\n",
              "  <thead>\n",
              "    <tr style=\"text-align: right;\">\n",
              "      <th></th>\n",
              "      <th>test_rmse</th>\n",
              "      <th>fit_time</th>\n",
              "      <th>test_time</th>\n",
              "    </tr>\n",
              "    <tr>\n",
              "      <th>Algorithm</th>\n",
              "      <th></th>\n",
              "      <th></th>\n",
              "      <th></th>\n",
              "    </tr>\n",
              "  </thead>\n",
              "  <tbody>\n",
              "    <tr>\n",
              "      <th>SVD</th>\n",
              "      <td>0.880395</td>\n",
              "      <td>4.317067</td>\n",
              "      <td>0.337731</td>\n",
              "    </tr>\n",
              "    <tr>\n",
              "      <th>NMF</th>\n",
              "      <td>0.936479</td>\n",
              "      <td>4.986980</td>\n",
              "      <td>0.238970</td>\n",
              "    </tr>\n",
              "    <tr>\n",
              "      <th>KNNBasic</th>\n",
              "      <td>0.958886</td>\n",
              "      <td>0.098997</td>\n",
              "      <td>2.267735</td>\n",
              "    </tr>\n",
              "    <tr>\n",
              "      <th>NormalPredictor</th>\n",
              "      <td>1.429247</td>\n",
              "      <td>0.105222</td>\n",
              "      <td>0.351722</td>\n",
              "    </tr>\n",
              "  </tbody>\n",
              "</table>\n",
              "</div>"
            ],
            "text/plain": [
              "                 test_rmse  fit_time  test_time\n",
              "Algorithm                                      \n",
              "SVD               0.880395  4.317067   0.337731\n",
              "NMF               0.936479  4.986980   0.238970\n",
              "KNNBasic          0.958886  0.098997   2.267735\n",
              "NormalPredictor   1.429247  0.105222   0.351722"
            ]
          },
          "metadata": {
            "tags": []
          },
          "execution_count": 84
        }
      ]
    },
    {
      "cell_type": "markdown",
      "metadata": {
        "id": "5w_ivNhptMud"
      },
      "source": [
        "As seen from the above table, SVD has the least RMSE value. Therefore the next step is to tune the hyperparameters of SVD"
      ]
    },
    {
      "cell_type": "markdown",
      "metadata": {
        "id": "uunuSI1Rts6a"
      },
      "source": [
        "**Hyperparameter Tuning**\n",
        "\n",
        "The defualt parameters for SVD are:\n",
        "1. n_factors = 100 - The number of factors.\n",
        "2. n_epocs = 20 - The number of iterations of the Stochastic Gradient Descent(SGD) procedure\n",
        "3. lr_all =0.005 -  The learning rate for all the parameters.\n",
        "4. reg_all = 0.02 - The regularization term for all parameters.\n",
        "\n"
      ]
    },
    {
      "cell_type": "markdown",
      "metadata": {
        "id": "8zhTGRVnxhUV"
      },
      "source": [
        "The cross_validate() function reports accuracy metric over a cross-validation procedure for a given set of parameters. If you want to know which parameter combination yields the best results, the GridSearchCV class comes to the rescue. Given a dict of parameters, this class exhaustively tries all the combinations of parameters and reports the best parameters for any accuracy measure (averaged over the different splits). It is heavily inspired from scikit-learn’s GridSearchCV. - From documentation"
      ]
    },
    {
      "cell_type": "code",
      "metadata": {
        "id": "2_S29y2qpbWB"
      },
      "source": [
        "#Hyperparameter tuning using GridSearchCV\n",
        "#dictionary of parameters\n",
        "param_grid = {'n_factors': [25, 30, 35, 40], 'n_epochs': [15, 20, 25], 'lr_all': [0.001, 0.003, 0.005, 0.008],\n",
        "              'reg_all': [0.08, 0.1, 0.15]}\n",
        "# with three crossfolds\n",
        "gs = GridSearchCV(SVD, param_grid, measures=['rmse', 'mae'], cv=3)\n",
        "#fitting the data\n",
        "gs.fit(data)\n",
        "#checking the results\n",
        "results_df = pd.DataFrame.from_dict(gs.cv_results)\n"
      ],
      "execution_count": 85,
      "outputs": []
    },
    {
      "cell_type": "code",
      "metadata": {
        "id": "rpr59cJE5REf",
        "outputId": "87b3234d-8afb-4a14-df28-906e2814f8df",
        "colab": {
          "base_uri": "https://localhost:8080/",
          "height": 564
        }
      },
      "source": [
        "results_df.sort_values('mean_test_rmse',ascending = True).head()"
      ],
      "execution_count": 86,
      "outputs": [
        {
          "output_type": "execute_result",
          "data": {
            "text/html": [
              "<div>\n",
              "<style scoped>\n",
              "    .dataframe tbody tr th:only-of-type {\n",
              "        vertical-align: middle;\n",
              "    }\n",
              "\n",
              "    .dataframe tbody tr th {\n",
              "        vertical-align: top;\n",
              "    }\n",
              "\n",
              "    .dataframe thead th {\n",
              "        text-align: right;\n",
              "    }\n",
              "</style>\n",
              "<table border=\"1\" class=\"dataframe\">\n",
              "  <thead>\n",
              "    <tr style=\"text-align: right;\">\n",
              "      <th></th>\n",
              "      <th>split0_test_rmse</th>\n",
              "      <th>split1_test_rmse</th>\n",
              "      <th>split2_test_rmse</th>\n",
              "      <th>mean_test_rmse</th>\n",
              "      <th>std_test_rmse</th>\n",
              "      <th>rank_test_rmse</th>\n",
              "      <th>split0_test_mae</th>\n",
              "      <th>split1_test_mae</th>\n",
              "      <th>split2_test_mae</th>\n",
              "      <th>mean_test_mae</th>\n",
              "      <th>std_test_mae</th>\n",
              "      <th>rank_test_mae</th>\n",
              "      <th>mean_fit_time</th>\n",
              "      <th>std_fit_time</th>\n",
              "      <th>mean_test_time</th>\n",
              "      <th>std_test_time</th>\n",
              "      <th>params</th>\n",
              "      <th>param_n_factors</th>\n",
              "      <th>param_n_epochs</th>\n",
              "      <th>param_lr_all</th>\n",
              "      <th>param_reg_all</th>\n",
              "    </tr>\n",
              "  </thead>\n",
              "  <tbody>\n",
              "    <tr>\n",
              "      <th>69</th>\n",
              "      <td>0.869751</td>\n",
              "      <td>0.868640</td>\n",
              "      <td>0.865935</td>\n",
              "      <td>0.868108</td>\n",
              "      <td>0.001602</td>\n",
              "      <td>1</td>\n",
              "      <td>0.669103</td>\n",
              "      <td>0.666056</td>\n",
              "      <td>0.665602</td>\n",
              "      <td>0.666920</td>\n",
              "      <td>0.001554</td>\n",
              "      <td>1</td>\n",
              "      <td>2.429219</td>\n",
              "      <td>0.007937</td>\n",
              "      <td>0.274189</td>\n",
              "      <td>0.077480</td>\n",
              "      <td>{'n_factors': 30, 'n_epochs': 25, 'lr_all': 0....</td>\n",
              "      <td>30</td>\n",
              "      <td>25</td>\n",
              "      <td>0.008</td>\n",
              "      <td>0.08</td>\n",
              "    </tr>\n",
              "    <tr>\n",
              "      <th>141</th>\n",
              "      <td>0.870977</td>\n",
              "      <td>0.868100</td>\n",
              "      <td>0.866480</td>\n",
              "      <td>0.868519</td>\n",
              "      <td>0.001860</td>\n",
              "      <td>2</td>\n",
              "      <td>0.669859</td>\n",
              "      <td>0.665981</td>\n",
              "      <td>0.666227</td>\n",
              "      <td>0.667356</td>\n",
              "      <td>0.001773</td>\n",
              "      <td>2</td>\n",
              "      <td>2.843388</td>\n",
              "      <td>0.007694</td>\n",
              "      <td>0.283715</td>\n",
              "      <td>0.098592</td>\n",
              "      <td>{'n_factors': 40, 'n_epochs': 25, 'lr_all': 0....</td>\n",
              "      <td>40</td>\n",
              "      <td>25</td>\n",
              "      <td>0.008</td>\n",
              "      <td>0.08</td>\n",
              "    </tr>\n",
              "    <tr>\n",
              "      <th>33</th>\n",
              "      <td>0.869974</td>\n",
              "      <td>0.868798</td>\n",
              "      <td>0.868542</td>\n",
              "      <td>0.869105</td>\n",
              "      <td>0.000624</td>\n",
              "      <td>3</td>\n",
              "      <td>0.669154</td>\n",
              "      <td>0.666753</td>\n",
              "      <td>0.667712</td>\n",
              "      <td>0.667873</td>\n",
              "      <td>0.000987</td>\n",
              "      <td>3</td>\n",
              "      <td>2.223670</td>\n",
              "      <td>0.004069</td>\n",
              "      <td>0.270496</td>\n",
              "      <td>0.079822</td>\n",
              "      <td>{'n_factors': 25, 'n_epochs': 25, 'lr_all': 0....</td>\n",
              "      <td>25</td>\n",
              "      <td>25</td>\n",
              "      <td>0.008</td>\n",
              "      <td>0.08</td>\n",
              "    </tr>\n",
              "    <tr>\n",
              "      <th>142</th>\n",
              "      <td>0.871229</td>\n",
              "      <td>0.870247</td>\n",
              "      <td>0.867203</td>\n",
              "      <td>0.869560</td>\n",
              "      <td>0.001714</td>\n",
              "      <td>4</td>\n",
              "      <td>0.670258</td>\n",
              "      <td>0.668230</td>\n",
              "      <td>0.667179</td>\n",
              "      <td>0.668556</td>\n",
              "      <td>0.001278</td>\n",
              "      <td>6</td>\n",
              "      <td>2.839108</td>\n",
              "      <td>0.007909</td>\n",
              "      <td>0.273345</td>\n",
              "      <td>0.081560</td>\n",
              "      <td>{'n_factors': 40, 'n_epochs': 25, 'lr_all': 0....</td>\n",
              "      <td>40</td>\n",
              "      <td>25</td>\n",
              "      <td>0.008</td>\n",
              "      <td>0.10</td>\n",
              "    </tr>\n",
              "    <tr>\n",
              "      <th>106</th>\n",
              "      <td>0.871031</td>\n",
              "      <td>0.869912</td>\n",
              "      <td>0.868020</td>\n",
              "      <td>0.869654</td>\n",
              "      <td>0.001243</td>\n",
              "      <td>5</td>\n",
              "      <td>0.670472</td>\n",
              "      <td>0.667517</td>\n",
              "      <td>0.667646</td>\n",
              "      <td>0.668545</td>\n",
              "      <td>0.001364</td>\n",
              "      <td>5</td>\n",
              "      <td>2.826410</td>\n",
              "      <td>0.049261</td>\n",
              "      <td>0.289811</td>\n",
              "      <td>0.067904</td>\n",
              "      <td>{'n_factors': 35, 'n_epochs': 25, 'lr_all': 0....</td>\n",
              "      <td>35</td>\n",
              "      <td>25</td>\n",
              "      <td>0.008</td>\n",
              "      <td>0.10</td>\n",
              "    </tr>\n",
              "  </tbody>\n",
              "</table>\n",
              "</div>"
            ],
            "text/plain": [
              "     split0_test_rmse  split1_test_rmse  ...  param_lr_all  param_reg_all\n",
              "69           0.869751          0.868640  ...         0.008           0.08\n",
              "141          0.870977          0.868100  ...         0.008           0.08\n",
              "33           0.869974          0.868798  ...         0.008           0.08\n",
              "142          0.871229          0.870247  ...         0.008           0.10\n",
              "106          0.871031          0.869912  ...         0.008           0.10\n",
              "\n",
              "[5 rows x 21 columns]"
            ]
          },
          "metadata": {
            "tags": []
          },
          "execution_count": 86
        }
      ]
    },
    {
      "cell_type": "code",
      "metadata": {
        "id": "nM9fUxCspbdR",
        "outputId": "83f8d77b-fbb3-45ee-fafe-40915738c6bc",
        "colab": {
          "base_uri": "https://localhost:8080/"
        }
      },
      "source": [
        "#best MRMSE score\n",
        "print(gs.best_score['rmse'])\n",
        "#combination of parameters that give the best RMSE score\n",
        "print(gs.best_params['rmse'])\n",
        "#algorithm with best RMSE\n",
        "algo = gs.best_estimator['rmse']"
      ],
      "execution_count": 87,
      "outputs": [
        {
          "output_type": "stream",
          "text": [
            "0.8681084677236107\n",
            "{'n_factors': 30, 'n_epochs': 25, 'lr_all': 0.008, 'reg_all': 0.08}\n"
          ],
          "name": "stdout"
        }
      ]
    },
    {
      "cell_type": "code",
      "metadata": {
        "id": "XK7okj7EpbYg"
      },
      "source": [
        "#Assigning values\n",
        "t = gs.best_params\n",
        "factors = t['rmse']['n_factors']\n",
        "epochs = t['rmse']['n_epochs']\n",
        "lr_value = t['rmse']['lr_all']\n",
        "reg_value = t['rmse']['reg_all']"
      ],
      "execution_count": 88,
      "outputs": []
    },
    {
      "cell_type": "markdown",
      "metadata": {
        "id": "pxEtrXW071mk"
      },
      "source": [
        "**Training & Testing**\n",
        "\n",
        "With the right set of values for the hyper-parameters, the data can be split into train and test stes and fit a SVD algorithm to the data."
      ]
    },
    {
      "cell_type": "code",
      "metadata": {
        "id": "rNdR7HJRpbMm",
        "outputId": "3672c376-5f3f-4913-f23c-12607a18436d",
        "colab": {
          "base_uri": "https://localhost:8080/"
        }
      },
      "source": [
        "#splitting the dataset\n",
        "trainset, testset = train_test_split(data, test_size=0.25)\n",
        "#defining the algorithm\n",
        "algo = SVD(n_factors=factors, n_epochs=epochs, lr_all=lr_value, reg_all=reg_value)\n",
        "#training the algorithm\n",
        "algo.fit(trainset)\n",
        "#making predictions\n",
        "predictions = algo.test(testset)\n",
        "#model evaluation\n",
        "accuracy.rmse(predictions)"
      ],
      "execution_count": 140,
      "outputs": [
        {
          "output_type": "stream",
          "text": [
            "RMSE: 0.9240\n"
          ],
          "name": "stdout"
        },
        {
          "output_type": "execute_result",
          "data": {
            "text/plain": [
              "0.923966995241548"
            ]
          },
          "metadata": {
            "tags": []
          },
          "execution_count": 140
        }
      ]
    },
    {
      "cell_type": "markdown",
      "metadata": {
        "id": "hZsWfJQR9yti"
      },
      "source": [
        "**Evaluating the Model**\n"
      ]
    },
    {
      "cell_type": "markdown",
      "metadata": {
        "id": "ZwXcGoKy3-xr"
      },
      "source": [
        "The following function will create a pandas data frame which will consist of these columns:\n",
        "\n",
        "**UID:** user-id\n",
        "\n",
        "**iid:** item id\n",
        "\n",
        "**Rui:** the rating given by the user\n",
        "\n",
        "**est:** rating estimated by the model\n",
        "\n",
        "**Iu:** No of items rated by the user\n",
        "\n",
        "**UI:** number of users that have rated this item\n",
        "\n",
        "**err:** abs difference between predicted rating and the actual rating."
      ]
    },
    {
      "cell_type": "code",
      "metadata": {
        "id": "Kry8Wn9I-j1g"
      },
      "source": [
        "#defining function to get number of items rated by user\n",
        "def get_Iu(uid):\n",
        "  \"\"\"\n",
        "  args: \n",
        "    uid : the user id\n",
        "  returns:\n",
        "    the number of items rated by the user\n",
        "  \"\"\"\n",
        "  try:\n",
        "    return len(trainset.ur[trainset.to_inner_uid(uid)])\n",
        "\n",
        "  except ValueError: #if user is not part of the trainset\n",
        "    return 0"
      ],
      "execution_count": 90,
      "outputs": []
    },
    {
      "cell_type": "code",
      "metadata": {
        "id": "_r3-bg1n-kJY"
      },
      "source": [
        "#defining function for getting the number of users that have rated an item\n",
        "def get_Ui(iid):\n",
        "  \"\"\" \n",
        "  args:\n",
        "    iid: the raw id of the item\n",
        "  returns:\n",
        "    the number of users that have rated the item.\n",
        "  \"\"\"\n",
        "  try: \n",
        "    return len(trainset.ir[trainset.to_inner_iid(iid)])\n",
        "  except ValueError:\n",
        "    return 0\n"
      ],
      "execution_count": 91,
      "outputs": []
    },
    {
      "cell_type": "code",
      "metadata": {
        "id": "9XgsQKyF3BqT"
      },
      "source": [
        "#making predictions and storing in a dataframe\n",
        "df_predictions = pd.DataFrame(predictions, columns=['uid', 'iid', 'rui', 'est', 'details'])\n",
        "df_predictions['Iu'] = df_predictions.uid.apply(get_Iu)\n",
        "df_predictions['Ui'] = df_predictions.iid.apply(get_Ui)\n",
        "df_predictions['err'] = abs(df_predictions.est - df_predictions.rui)"
      ],
      "execution_count": 92,
      "outputs": []
    },
    {
      "cell_type": "code",
      "metadata": {
        "id": "Y1mHJe_8-knw",
        "outputId": "781f9945-3672-4703-c043-fd889eac18a6",
        "colab": {
          "base_uri": "https://localhost:8080/",
          "height": 204
        }
      },
      "source": [
        "df_predictions.head()"
      ],
      "execution_count": 93,
      "outputs": [
        {
          "output_type": "execute_result",
          "data": {
            "text/html": [
              "<div>\n",
              "<style scoped>\n",
              "    .dataframe tbody tr th:only-of-type {\n",
              "        vertical-align: middle;\n",
              "    }\n",
              "\n",
              "    .dataframe tbody tr th {\n",
              "        vertical-align: top;\n",
              "    }\n",
              "\n",
              "    .dataframe thead th {\n",
              "        text-align: right;\n",
              "    }\n",
              "</style>\n",
              "<table border=\"1\" class=\"dataframe\">\n",
              "  <thead>\n",
              "    <tr style=\"text-align: right;\">\n",
              "      <th></th>\n",
              "      <th>uid</th>\n",
              "      <th>iid</th>\n",
              "      <th>rui</th>\n",
              "      <th>est</th>\n",
              "      <th>details</th>\n",
              "      <th>Iu</th>\n",
              "      <th>Ui</th>\n",
              "      <th>err</th>\n",
              "    </tr>\n",
              "  </thead>\n",
              "  <tbody>\n",
              "    <tr>\n",
              "      <th>0</th>\n",
              "      <td>182</td>\n",
              "      <td>150</td>\n",
              "      <td>2.5</td>\n",
              "      <td>3.782183</td>\n",
              "      <td>{'was_impossible': False}</td>\n",
              "      <td>744</td>\n",
              "      <td>160</td>\n",
              "      <td>1.282183</td>\n",
              "    </tr>\n",
              "    <tr>\n",
              "      <th>1</th>\n",
              "      <td>249</td>\n",
              "      <td>1552</td>\n",
              "      <td>4.0</td>\n",
              "      <td>3.484060</td>\n",
              "      <td>{'was_impossible': False}</td>\n",
              "      <td>790</td>\n",
              "      <td>43</td>\n",
              "      <td>0.515940</td>\n",
              "    </tr>\n",
              "    <tr>\n",
              "      <th>2</th>\n",
              "      <td>514</td>\n",
              "      <td>4124</td>\n",
              "      <td>1.0</td>\n",
              "      <td>2.450510</td>\n",
              "      <td>{'was_impossible': False}</td>\n",
              "      <td>308</td>\n",
              "      <td>2</td>\n",
              "      <td>1.450510</td>\n",
              "    </tr>\n",
              "    <tr>\n",
              "      <th>3</th>\n",
              "      <td>438</td>\n",
              "      <td>47044</td>\n",
              "      <td>4.0</td>\n",
              "      <td>3.004073</td>\n",
              "      <td>{'was_impossible': False}</td>\n",
              "      <td>465</td>\n",
              "      <td>6</td>\n",
              "      <td>0.995927</td>\n",
              "    </tr>\n",
              "    <tr>\n",
              "      <th>4</th>\n",
              "      <td>489</td>\n",
              "      <td>8957</td>\n",
              "      <td>0.5</td>\n",
              "      <td>2.797581</td>\n",
              "      <td>{'was_impossible': False}</td>\n",
              "      <td>498</td>\n",
              "      <td>19</td>\n",
              "      <td>2.297581</td>\n",
              "    </tr>\n",
              "  </tbody>\n",
              "</table>\n",
              "</div>"
            ],
            "text/plain": [
              "   uid    iid  rui       est                    details   Iu   Ui       err\n",
              "0  182    150  2.5  3.782183  {'was_impossible': False}  744  160  1.282183\n",
              "1  249   1552  4.0  3.484060  {'was_impossible': False}  790   43  0.515940\n",
              "2  514   4124  1.0  2.450510  {'was_impossible': False}  308    2  1.450510\n",
              "3  438  47044  4.0  3.004073  {'was_impossible': False}  465    6  0.995927\n",
              "4  489   8957  0.5  2.797581  {'was_impossible': False}  498   19  2.297581"
            ]
          },
          "metadata": {
            "tags": []
          },
          "execution_count": 93
        }
      ]
    },
    {
      "cell_type": "markdown",
      "metadata": {
        "id": "Clq2CWvy5Eni"
      },
      "source": [
        "Checking the best and works predictions"
      ]
    },
    {
      "cell_type": "code",
      "metadata": {
        "id": "lHFRQHLupa-O",
        "outputId": "996ea645-72f2-40d4-83e5-addfccbba8be",
        "colab": {
          "base_uri": "https://localhost:8080/",
          "height": 359
        }
      },
      "source": [
        "#checking the best predictions\n",
        "best_predictions = df_predictions.sort_values(by='err').head(10)\n",
        "best_predictions"
      ],
      "execution_count": 94,
      "outputs": [
        {
          "output_type": "execute_result",
          "data": {
            "text/html": [
              "<div>\n",
              "<style scoped>\n",
              "    .dataframe tbody tr th:only-of-type {\n",
              "        vertical-align: middle;\n",
              "    }\n",
              "\n",
              "    .dataframe tbody tr th {\n",
              "        vertical-align: top;\n",
              "    }\n",
              "\n",
              "    .dataframe thead th {\n",
              "        text-align: right;\n",
              "    }\n",
              "</style>\n",
              "<table border=\"1\" class=\"dataframe\">\n",
              "  <thead>\n",
              "    <tr style=\"text-align: right;\">\n",
              "      <th></th>\n",
              "      <th>uid</th>\n",
              "      <th>iid</th>\n",
              "      <th>rui</th>\n",
              "      <th>est</th>\n",
              "      <th>details</th>\n",
              "      <th>Iu</th>\n",
              "      <th>Ui</th>\n",
              "      <th>err</th>\n",
              "    </tr>\n",
              "  </thead>\n",
              "  <tbody>\n",
              "    <tr>\n",
              "      <th>20956</th>\n",
              "      <td>452</td>\n",
              "      <td>1089</td>\n",
              "      <td>5.0</td>\n",
              "      <td>5.000000</td>\n",
              "      <td>{'was_impossible': False}</td>\n",
              "      <td>149</td>\n",
              "      <td>107</td>\n",
              "      <td>0.000000</td>\n",
              "    </tr>\n",
              "    <tr>\n",
              "      <th>21663</th>\n",
              "      <td>543</td>\n",
              "      <td>2571</td>\n",
              "      <td>5.0</td>\n",
              "      <td>5.000000</td>\n",
              "      <td>{'was_impossible': False}</td>\n",
              "      <td>55</td>\n",
              "      <td>211</td>\n",
              "      <td>0.000000</td>\n",
              "    </tr>\n",
              "    <tr>\n",
              "      <th>23493</th>\n",
              "      <td>171</td>\n",
              "      <td>1104</td>\n",
              "      <td>5.0</td>\n",
              "      <td>5.000000</td>\n",
              "      <td>{'was_impossible': False}</td>\n",
              "      <td>67</td>\n",
              "      <td>13</td>\n",
              "      <td>0.000000</td>\n",
              "    </tr>\n",
              "    <tr>\n",
              "      <th>23491</th>\n",
              "      <td>515</td>\n",
              "      <td>318</td>\n",
              "      <td>5.0</td>\n",
              "      <td>5.000000</td>\n",
              "      <td>{'was_impossible': False}</td>\n",
              "      <td>18</td>\n",
              "      <td>236</td>\n",
              "      <td>0.000000</td>\n",
              "    </tr>\n",
              "    <tr>\n",
              "      <th>7145</th>\n",
              "      <td>43</td>\n",
              "      <td>1084</td>\n",
              "      <td>5.0</td>\n",
              "      <td>5.000000</td>\n",
              "      <td>{'was_impossible': False}</td>\n",
              "      <td>82</td>\n",
              "      <td>25</td>\n",
              "      <td>0.000000</td>\n",
              "    </tr>\n",
              "    <tr>\n",
              "      <th>3740</th>\n",
              "      <td>53</td>\n",
              "      <td>1982</td>\n",
              "      <td>5.0</td>\n",
              "      <td>5.000000</td>\n",
              "      <td>{'was_impossible': False}</td>\n",
              "      <td>18</td>\n",
              "      <td>16</td>\n",
              "      <td>0.000000</td>\n",
              "    </tr>\n",
              "    <tr>\n",
              "      <th>85</th>\n",
              "      <td>452</td>\n",
              "      <td>1198</td>\n",
              "      <td>5.0</td>\n",
              "      <td>5.000000</td>\n",
              "      <td>{'was_impossible': False}</td>\n",
              "      <td>149</td>\n",
              "      <td>141</td>\n",
              "      <td>0.000000</td>\n",
              "    </tr>\n",
              "    <tr>\n",
              "      <th>12153</th>\n",
              "      <td>25</td>\n",
              "      <td>177593</td>\n",
              "      <td>5.0</td>\n",
              "      <td>5.000000</td>\n",
              "      <td>{'was_impossible': False}</td>\n",
              "      <td>21</td>\n",
              "      <td>4</td>\n",
              "      <td>0.000000</td>\n",
              "    </tr>\n",
              "    <tr>\n",
              "      <th>4947</th>\n",
              "      <td>53</td>\n",
              "      <td>1298</td>\n",
              "      <td>5.0</td>\n",
              "      <td>5.000000</td>\n",
              "      <td>{'was_impossible': False}</td>\n",
              "      <td>18</td>\n",
              "      <td>16</td>\n",
              "      <td>0.000000</td>\n",
              "    </tr>\n",
              "    <tr>\n",
              "      <th>16319</th>\n",
              "      <td>442</td>\n",
              "      <td>616</td>\n",
              "      <td>1.5</td>\n",
              "      <td>1.500035</td>\n",
              "      <td>{'was_impossible': False}</td>\n",
              "      <td>14</td>\n",
              "      <td>32</td>\n",
              "      <td>0.000035</td>\n",
              "    </tr>\n",
              "  </tbody>\n",
              "</table>\n",
              "</div>"
            ],
            "text/plain": [
              "       uid     iid  rui  ...   Iu   Ui       err\n",
              "20956  452    1089  5.0  ...  149  107  0.000000\n",
              "21663  543    2571  5.0  ...   55  211  0.000000\n",
              "23493  171    1104  5.0  ...   67   13  0.000000\n",
              "23491  515     318  5.0  ...   18  236  0.000000\n",
              "7145    43    1084  5.0  ...   82   25  0.000000\n",
              "3740    53    1982  5.0  ...   18   16  0.000000\n",
              "85     452    1198  5.0  ...  149  141  0.000000\n",
              "12153   25  177593  5.0  ...   21    4  0.000000\n",
              "4947    53    1298  5.0  ...   18   16  0.000000\n",
              "16319  442     616  1.5  ...   14   32  0.000035\n",
              "\n",
              "[10 rows x 8 columns]"
            ]
          },
          "metadata": {
            "tags": []
          },
          "execution_count": 94
        }
      ]
    },
    {
      "cell_type": "code",
      "metadata": {
        "id": "69a91I9g5EB8",
        "outputId": "ef4f5745-ff9f-49a7-c1e0-908b9d05cccf",
        "colab": {
          "base_uri": "https://localhost:8080/",
          "height": 359
        }
      },
      "source": [
        "#checking the worst predictions\n",
        "worst_predictions = df_predictions.sort_values(by='err').tail(10)\n",
        "worst_predictions"
      ],
      "execution_count": 95,
      "outputs": [
        {
          "output_type": "execute_result",
          "data": {
            "text/html": [
              "<div>\n",
              "<style scoped>\n",
              "    .dataframe tbody tr th:only-of-type {\n",
              "        vertical-align: middle;\n",
              "    }\n",
              "\n",
              "    .dataframe tbody tr th {\n",
              "        vertical-align: top;\n",
              "    }\n",
              "\n",
              "    .dataframe thead th {\n",
              "        text-align: right;\n",
              "    }\n",
              "</style>\n",
              "<table border=\"1\" class=\"dataframe\">\n",
              "  <thead>\n",
              "    <tr style=\"text-align: right;\">\n",
              "      <th></th>\n",
              "      <th>uid</th>\n",
              "      <th>iid</th>\n",
              "      <th>rui</th>\n",
              "      <th>est</th>\n",
              "      <th>details</th>\n",
              "      <th>Iu</th>\n",
              "      <th>Ui</th>\n",
              "      <th>err</th>\n",
              "    </tr>\n",
              "  </thead>\n",
              "  <tbody>\n",
              "    <tr>\n",
              "      <th>24309</th>\n",
              "      <td>51</td>\n",
              "      <td>4308</td>\n",
              "      <td>0.5</td>\n",
              "      <td>4.183781</td>\n",
              "      <td>{'was_impossible': False}</td>\n",
              "      <td>270</td>\n",
              "      <td>39</td>\n",
              "      <td>3.683781</td>\n",
              "    </tr>\n",
              "    <tr>\n",
              "      <th>21023</th>\n",
              "      <td>495</td>\n",
              "      <td>106489</td>\n",
              "      <td>0.5</td>\n",
              "      <td>4.190479</td>\n",
              "      <td>{'was_impossible': False}</td>\n",
              "      <td>201</td>\n",
              "      <td>19</td>\n",
              "      <td>3.690479</td>\n",
              "    </tr>\n",
              "    <tr>\n",
              "      <th>18864</th>\n",
              "      <td>210</td>\n",
              "      <td>296</td>\n",
              "      <td>0.5</td>\n",
              "      <td>4.249976</td>\n",
              "      <td>{'was_impossible': False}</td>\n",
              "      <td>106</td>\n",
              "      <td>234</td>\n",
              "      <td>3.749976</td>\n",
              "    </tr>\n",
              "    <tr>\n",
              "      <th>13079</th>\n",
              "      <td>594</td>\n",
              "      <td>8521</td>\n",
              "      <td>0.5</td>\n",
              "      <td>4.294024</td>\n",
              "      <td>{'was_impossible': False}</td>\n",
              "      <td>163</td>\n",
              "      <td>1</td>\n",
              "      <td>3.794024</td>\n",
              "    </tr>\n",
              "    <tr>\n",
              "      <th>15701</th>\n",
              "      <td>573</td>\n",
              "      <td>1127</td>\n",
              "      <td>0.5</td>\n",
              "      <td>4.357171</td>\n",
              "      <td>{'was_impossible': False}</td>\n",
              "      <td>224</td>\n",
              "      <td>50</td>\n",
              "      <td>3.857171</td>\n",
              "    </tr>\n",
              "    <tr>\n",
              "      <th>6910</th>\n",
              "      <td>258</td>\n",
              "      <td>122886</td>\n",
              "      <td>0.5</td>\n",
              "      <td>4.388670</td>\n",
              "      <td>{'was_impossible': False}</td>\n",
              "      <td>22</td>\n",
              "      <td>26</td>\n",
              "      <td>3.888670</td>\n",
              "    </tr>\n",
              "    <tr>\n",
              "      <th>21501</th>\n",
              "      <td>495</td>\n",
              "      <td>4993</td>\n",
              "      <td>0.5</td>\n",
              "      <td>4.437664</td>\n",
              "      <td>{'was_impossible': False}</td>\n",
              "      <td>201</td>\n",
              "      <td>147</td>\n",
              "      <td>3.937664</td>\n",
              "    </tr>\n",
              "    <tr>\n",
              "      <th>17464</th>\n",
              "      <td>543</td>\n",
              "      <td>35836</td>\n",
              "      <td>0.5</td>\n",
              "      <td>4.466323</td>\n",
              "      <td>{'was_impossible': False}</td>\n",
              "      <td>55</td>\n",
              "      <td>57</td>\n",
              "      <td>3.966323</td>\n",
              "    </tr>\n",
              "    <tr>\n",
              "      <th>13248</th>\n",
              "      <td>594</td>\n",
              "      <td>5909</td>\n",
              "      <td>0.5</td>\n",
              "      <td>4.503915</td>\n",
              "      <td>{'was_impossible': False}</td>\n",
              "      <td>163</td>\n",
              "      <td>3</td>\n",
              "      <td>4.003915</td>\n",
              "    </tr>\n",
              "    <tr>\n",
              "      <th>6894</th>\n",
              "      <td>543</td>\n",
              "      <td>89904</td>\n",
              "      <td>0.5</td>\n",
              "      <td>5.000000</td>\n",
              "      <td>{'was_impossible': False}</td>\n",
              "      <td>55</td>\n",
              "      <td>8</td>\n",
              "      <td>4.500000</td>\n",
              "    </tr>\n",
              "  </tbody>\n",
              "</table>\n",
              "</div>"
            ],
            "text/plain": [
              "       uid     iid  rui  ...   Iu   Ui       err\n",
              "24309   51    4308  0.5  ...  270   39  3.683781\n",
              "21023  495  106489  0.5  ...  201   19  3.690479\n",
              "18864  210     296  0.5  ...  106  234  3.749976\n",
              "13079  594    8521  0.5  ...  163    1  3.794024\n",
              "15701  573    1127  0.5  ...  224   50  3.857171\n",
              "6910   258  122886  0.5  ...   22   26  3.888670\n",
              "21501  495    4993  0.5  ...  201  147  3.937664\n",
              "17464  543   35836  0.5  ...   55   57  3.966323\n",
              "13248  594    5909  0.5  ...  163    3  4.003915\n",
              "6894   543   89904  0.5  ...   55    8  4.500000\n",
              "\n",
              "[10 rows x 8 columns]"
            ]
          },
          "metadata": {
            "tags": []
          },
          "execution_count": 95
        }
      ]
    },
    {
      "cell_type": "markdown",
      "metadata": {
        "id": "LgO5jJ7_5k2q"
      },
      "source": [
        "The worst predictions look pretty surprise. Let's look in more details of the worst preforming item \"89904\", rated 0.5, with the SVD algorithm predicting a rating of about 4.9"
      ]
    },
    {
      "cell_type": "code",
      "metadata": {
        "id": "omhrrIJM5EMi",
        "outputId": "5f2e0a4c-cdd2-47c8-e6c5-2b998524a092",
        "colab": {
          "base_uri": "https://localhost:8080/"
        }
      },
      "source": [
        "#checking the different rating this item recieved\n",
        "df.loc[df['itemID'] == 89904]['rating'].describe()"
      ],
      "execution_count": 96,
      "outputs": [
        {
          "output_type": "execute_result",
          "data": {
            "text/plain": [
              "count    11.000000\n",
              "mean      4.045455\n",
              "std       1.386624\n",
              "min       0.500000\n",
              "25%       4.000000\n",
              "50%       4.500000\n",
              "75%       5.000000\n",
              "max       5.000000\n",
              "Name: rating, dtype: float64"
            ]
          },
          "metadata": {
            "tags": []
          },
          "execution_count": 96
        }
      ]
    },
    {
      "cell_type": "code",
      "metadata": {
        "id": "X0x2Ldv55EIN",
        "outputId": "b4b1f147-bea2-4b3d-92a8-a11f4d8b5609",
        "colab": {
          "base_uri": "https://localhost:8080/",
          "height": 304
        }
      },
      "source": [
        "#The different ratings for the itemId 89904\n",
        "df.loc[df['itemID'] == 89904]['rating'].plot(kind = 'bar')"
      ],
      "execution_count": 97,
      "outputs": [
        {
          "output_type": "execute_result",
          "data": {
            "text/plain": [
              "<matplotlib.axes._subplots.AxesSubplot at 0x7f70ad8a4b38>"
            ]
          },
          "metadata": {
            "tags": []
          },
          "execution_count": 97
        },
        {
          "output_type": "display_data",
          "data": {
            "image/png": "[encoded data removed]",
            "text/plain": [
              "<Figure size 432x288 with 1 Axes>"
            ]
          },
          "metadata": {
            "tags": [],
            "needs_background": "light"
          }
        }
      ]
    },
    {
      "cell_type": "markdown",
      "metadata": {
        "id": "_YHGhndq87a5"
      },
      "source": [
        "From the above plot it seems most of the ratings this item recieved are between 4 and 5. Only two users of the 11 rated the item below 4.  It seems that for each prediction, the users are some kind of outliers and the item has been rated very less number of times.\n",
        "\n",
        "Therefore, the next step is to fins an optimal number of items to recommend to the users"
      ]
    },
    {
      "cell_type": "markdown",
      "metadata": {
        "id": "DxWXh_TrCkna"
      },
      "source": [
        "### Part 2.1 K Recommendations\n",
        "\n",
        "When it comes to recommending items in a recommender syste,, we are highly interested in recommending only the top K items to the user and to find the optimal number recall and precision used.\n",
        "\n",
        "1. Precsion: Makes an attempt to answer 'What propotions of positive identifications by the model are literally correct?'\n",
        "2. Recall: Makes an attempt to answer the question of what propotion of actual positives were known properly by the model.\n",
        "\n",
        "Therfore, in order to use precision and recall as the evaluation metric the ratings which are scaled between 0-5 , need to be converted into a binary format. Relevant or Irrelevant items based on a set threshold.\n",
        "\n",
        "\n"
      ]
    },
    {
      "cell_type": "markdown",
      "metadata": {
        "id": "VgcDZ9JiFs0K"
      },
      "source": [
        "Setting an arbitrary threshold at 3.5 such that:\n",
        "\n",
        "**Relevant:** True Rating > = 3.5\n",
        "\n",
        "**Irrelevant:** True Rating < 3.5\n",
        "\n",
        "\n",
        "**Recommended item:** Predicted Rating > = 3.5\n",
        "\n",
        "**Not Recommended item:** Predicted Rating > = 3.5\n",
        "\n",
        "Given that in recommendation systems, the interest is to show the top N items to users rather than all the items. Therefore it is best to compute precision and recall on top N values instead of caluclating on all the items."
      ]
    },
    {
      "cell_type": "markdown",
      "metadata": {
        "id": "lDOKRqm9IC7x"
      },
      "source": [
        "**Therefore, recall expresses the ability to find all relevant instances in a dataset, precision expresses the proportion of the data points our model says was relevant actually were relevant.**\n",
        "\n",
        "However, in cases where we want to obtain an optimal blend of precision and recall, we can use **F1** score which is the harmonic mean of precision and recall taking both metrics into account while calculating it.\n",
        "\n",
        "**f1 score = 2 * (precision * recall) / (precision + recall)**"
      ]
    },
    {
      "cell_type": "code",
      "metadata": {
        "id": "CHBHDv-EICL3",
        "outputId": "5d70dc47-cff0-4cc7-fd57-255b46629603",
        "colab": {
          "base_uri": "https://localhost:8080/",
          "height": 390
        }
      },
      "source": [
        "#defining function for computing recall, precision and F1 score\n",
        "final = []\n",
        "\n",
        "for threshold in np.arange(0, 5.5, 0.5):\n",
        "  tp=0  #true positive\n",
        "  fn=0  #false negative\n",
        "  fp=0  #false positive\n",
        "  tn=0  #true negative\n",
        "  temp = []\n",
        "\n",
        "  for uid, _, true_r, est, _ in predictions:\n",
        "    if(true_r>=threshold):\n",
        "      if(est>=threshold):\n",
        "        tp = tp+1\n",
        "      else:\n",
        "        fn = fn+1\n",
        "    else:\n",
        "      if(est>=threshold):\n",
        "        fp = fp+1\n",
        "      else:\n",
        "        tn = tn+1   \n",
        "\n",
        "    if tp == 0:\n",
        "      precision = 0\n",
        "      recall = 0\n",
        "      f1 = 0\n",
        "    else:\n",
        "      precision = tp / (tp + fp)\n",
        "      recall = tp / (tp + fn)\n",
        "      f1 = 2 * (precision * recall) / (precision + recall)  \n",
        "\n",
        "  temp = [threshold, tp,fp,tn ,fn, precision, recall, f1]\n",
        "  final.append(temp)\n",
        "\n",
        "results = pd.DataFrame(final)\n",
        "results.rename(columns={0:'threshold', 1:'tp', 2: 'fp', 3: 'tn', 4:'fn', 5: 'Precision', 6:'Recall', 7:'F1'}, inplace=True)\n",
        "results"
      ],
      "execution_count": 99,
      "outputs": [
        {
          "output_type": "execute_result",
          "data": {
            "text/html": [
              "<div>\n",
              "<style scoped>\n",
              "    .dataframe tbody tr th:only-of-type {\n",
              "        vertical-align: middle;\n",
              "    }\n",
              "\n",
              "    .dataframe tbody tr th {\n",
              "        vertical-align: top;\n",
              "    }\n",
              "\n",
              "    .dataframe thead th {\n",
              "        text-align: right;\n",
              "    }\n",
              "</style>\n",
              "<table border=\"1\" class=\"dataframe\">\n",
              "  <thead>\n",
              "    <tr style=\"text-align: right;\">\n",
              "      <th></th>\n",
              "      <th>threshold</th>\n",
              "      <th>tp</th>\n",
              "      <th>fp</th>\n",
              "      <th>tn</th>\n",
              "      <th>fn</th>\n",
              "      <th>Precision</th>\n",
              "      <th>Recall</th>\n",
              "      <th>F1</th>\n",
              "    </tr>\n",
              "  </thead>\n",
              "  <tbody>\n",
              "    <tr>\n",
              "      <th>0</th>\n",
              "      <td>0.0</td>\n",
              "      <td>25209</td>\n",
              "      <td>0</td>\n",
              "      <td>0</td>\n",
              "      <td>0</td>\n",
              "      <td>1.000000</td>\n",
              "      <td>1.000000</td>\n",
              "      <td>1.000000</td>\n",
              "    </tr>\n",
              "    <tr>\n",
              "      <th>1</th>\n",
              "      <td>0.5</td>\n",
              "      <td>25209</td>\n",
              "      <td>0</td>\n",
              "      <td>0</td>\n",
              "      <td>0</td>\n",
              "      <td>1.000000</td>\n",
              "      <td>1.000000</td>\n",
              "      <td>1.000000</td>\n",
              "    </tr>\n",
              "    <tr>\n",
              "      <th>2</th>\n",
              "      <td>1.0</td>\n",
              "      <td>24843</td>\n",
              "      <td>365</td>\n",
              "      <td>1</td>\n",
              "      <td>0</td>\n",
              "      <td>0.985520</td>\n",
              "      <td>1.000000</td>\n",
              "      <td>0.992707</td>\n",
              "    </tr>\n",
              "    <tr>\n",
              "      <th>3</th>\n",
              "      <td>1.5</td>\n",
              "      <td>24084</td>\n",
              "      <td>1106</td>\n",
              "      <td>12</td>\n",
              "      <td>7</td>\n",
              "      <td>0.956094</td>\n",
              "      <td>0.999709</td>\n",
              "      <td>0.977415</td>\n",
              "    </tr>\n",
              "    <tr>\n",
              "      <th>4</th>\n",
              "      <td>2.0</td>\n",
              "      <td>23562</td>\n",
              "      <td>1450</td>\n",
              "      <td>112</td>\n",
              "      <td>85</td>\n",
              "      <td>0.942028</td>\n",
              "      <td>0.996405</td>\n",
              "      <td>0.968454</td>\n",
              "    </tr>\n",
              "    <tr>\n",
              "      <th>5</th>\n",
              "      <td>2.5</td>\n",
              "      <td>21320</td>\n",
              "      <td>2693</td>\n",
              "      <td>702</td>\n",
              "      <td>494</td>\n",
              "      <td>0.887852</td>\n",
              "      <td>0.977354</td>\n",
              "      <td>0.930456</td>\n",
              "    </tr>\n",
              "    <tr>\n",
              "      <th>6</th>\n",
              "      <td>3.0</td>\n",
              "      <td>18193</td>\n",
              "      <td>2420</td>\n",
              "      <td>2387</td>\n",
              "      <td>2209</td>\n",
              "      <td>0.882598</td>\n",
              "      <td>0.891726</td>\n",
              "      <td>0.887139</td>\n",
              "    </tr>\n",
              "    <tr>\n",
              "      <th>7</th>\n",
              "      <td>3.5</td>\n",
              "      <td>10766</td>\n",
              "      <td>2722</td>\n",
              "      <td>7078</td>\n",
              "      <td>4643</td>\n",
              "      <td>0.798191</td>\n",
              "      <td>0.698683</td>\n",
              "      <td>0.745129</td>\n",
              "    </tr>\n",
              "    <tr>\n",
              "      <th>8</th>\n",
              "      <td>4.0</td>\n",
              "      <td>4058</td>\n",
              "      <td>898</td>\n",
              "      <td>12260</td>\n",
              "      <td>7993</td>\n",
              "      <td>0.818805</td>\n",
              "      <td>0.336736</td>\n",
              "      <td>0.477215</td>\n",
              "    </tr>\n",
              "    <tr>\n",
              "      <th>9</th>\n",
              "      <td>4.5</td>\n",
              "      <td>457</td>\n",
              "      <td>223</td>\n",
              "      <td>19629</td>\n",
              "      <td>4900</td>\n",
              "      <td>0.672059</td>\n",
              "      <td>0.085309</td>\n",
              "      <td>0.151400</td>\n",
              "    </tr>\n",
              "    <tr>\n",
              "      <th>10</th>\n",
              "      <td>5.0</td>\n",
              "      <td>9</td>\n",
              "      <td>4</td>\n",
              "      <td>21985</td>\n",
              "      <td>3211</td>\n",
              "      <td>0.692308</td>\n",
              "      <td>0.002795</td>\n",
              "      <td>0.005568</td>\n",
              "    </tr>\n",
              "  </tbody>\n",
              "</table>\n",
              "</div>"
            ],
            "text/plain": [
              "    threshold     tp    fp     tn    fn  Precision    Recall        F1\n",
              "0         0.0  25209     0      0     0   1.000000  1.000000  1.000000\n",
              "1         0.5  25209     0      0     0   1.000000  1.000000  1.000000\n",
              "2         1.0  24843   365      1     0   0.985520  1.000000  0.992707\n",
              "3         1.5  24084  1106     12     7   0.956094  0.999709  0.977415\n",
              "4         2.0  23562  1450    112    85   0.942028  0.996405  0.968454\n",
              "5         2.5  21320  2693    702   494   0.887852  0.977354  0.930456\n",
              "6         3.0  18193  2420   2387  2209   0.882598  0.891726  0.887139\n",
              "7         3.5  10766  2722   7078  4643   0.798191  0.698683  0.745129\n",
              "8         4.0   4058   898  12260  7993   0.818805  0.336736  0.477215\n",
              "9         4.5    457   223  19629  4900   0.672059  0.085309  0.151400\n",
              "10        5.0      9     4  21985  3211   0.692308  0.002795  0.005568"
            ]
          },
          "metadata": {
            "tags": []
          },
          "execution_count": 99
        }
      ]
    },
    {
      "cell_type": "markdown",
      "metadata": {
        "id": "MLf_N99yJ76t"
      },
      "source": [
        "From the results above, the optimal threshold value is 2.5\n",
        "\n",
        "The next step is to find the optimal K value, and to find it we have to first calculate precision and recall for all the K values(2-10) having threshold value 2.5.\n",
        "\n",
        "Below is the function to calculate **precision and recall @ K.**"
      ]
    },
    {
      "cell_type": "code",
      "metadata": {
        "id": "VqOvINEs9IDB"
      },
      "source": [
        "def precision_recall_at_k(predictions, k, threshold):\n",
        "    '''Return precision and recall at k metrics for each user.'''\n",
        "\n",
        "    # First map the predictions to each user.\n",
        "    user_est_true = defaultdict(list)\n",
        "    for uid, _, true_r, est, _ in predictions:\n",
        "        user_est_true[uid].append((est, true_r))\n",
        "\n",
        "    precisions = dict()\n",
        "    recalls = dict()\n",
        "    for uid, user_ratings in user_est_true.items():\n",
        "\n",
        "        # Sort user ratings by estimated value\n",
        "        user_ratings.sort(key=lambda x: x[0], reverse=True)\n",
        "\n",
        "        # Number of relevant items\n",
        "        n_rel = sum((true_r >= threshold) for (_, true_r) in user_ratings)\n",
        "\n",
        "        # Number of recommended items in top k\n",
        "        n_rec_k = sum((est >= threshold) for (est, _) in user_ratings[:k])\n",
        "\n",
        "        # Number of relevant and recommended items in top k\n",
        "        n_rel_and_rec_k = sum(((true_r >= threshold) and (est >= threshold))\n",
        "                              for (est, true_r) in user_ratings[:k])\n",
        "\n",
        "        # Precision@K: Proportion of recommended items that are relevant\n",
        "        precisions[uid] = n_rel_and_rec_k / n_rec_k if n_rec_k != 0 else 1\n",
        "\n",
        "        # Recall@K: Proportion of relevant items that are recommended\n",
        "        recalls[uid] = n_rel_and_rec_k / n_rel if n_rel != 0 else 1\n",
        "\n",
        "    #tp = n_rel_and_rec_k\n",
        "    #fn =  n_rel - tp\n",
        "    #fp = n_rec_k - tp\n",
        "    return precisions, recalls\n",
        "    "
      ],
      "execution_count": 100,
      "outputs": []
    },
    {
      "cell_type": "code",
      "metadata": {
        "id": "YbE-viJKCjsf",
        "outputId": "a2c62ec8-261a-489c-f1e0-824107f8559a",
        "colab": {
          "base_uri": "https://localhost:8080/"
        }
      },
      "source": [
        "#gettin the evaluation results\n",
        "results=[]\n",
        "for i in range(2, 11):\n",
        "    precisions, recalls = precision_recall_at_k(predictions, k=i, threshold=2.5)\n",
        "\n",
        "    # Precision and recall can then be averaged over all users\n",
        "    prec = sum(prec for prec in precisions.values()) / len(precisions)\n",
        "    rec = sum(rec for rec in recalls.values()) / len(recalls)\n",
        "    results.append({'K': i, 'Precision': prec, 'Recall': rec})\n",
        "    \n",
        "\n",
        "results"
      ],
      "execution_count": 101,
      "outputs": [
        {
          "output_type": "execute_result",
          "data": {
            "text/plain": [
              "[{'K': 2, 'Precision': 0.9466338259441708, 'Recall': 0.174642846611795},\n",
              " {'K': 3, 'Precision': 0.9392446633825948, 'Recall': 0.24924538221726206},\n",
              " {'K': 4, 'Precision': 0.9373289545703337, 'Recall': 0.31809883477901413},\n",
              " {'K': 5, 'Precision': 0.9354406130268209, 'Recall': 0.3777324409105694},\n",
              " {'K': 6, 'Precision': 0.934893267651888, 'Recall': 0.43166319543822806},\n",
              " {'K': 7, 'Precision': 0.931765579795135, 'Recall': 0.4785135284740033},\n",
              " {'K': 8, 'Precision': 0.9289506607240594, 'Recall': 0.5176647334989506},\n",
              " {'K': 9, 'Precision': 0.9254613339588721, 'Recall': 0.5513858642538473},\n",
              " {'K': 10, 'Precision': 0.9228158313133674, 'Recall': 0.5798380316962117}]"
            ]
          },
          "metadata": {
            "tags": []
          },
          "execution_count": 101
        }
      ]
    },
    {
      "cell_type": "code",
      "metadata": {
        "id": "J43pTRh_Cj39",
        "outputId": "811917d8-ba82-4630-adea-3cabc98fa09e",
        "colab": {
          "base_uri": "https://localhost:8080/",
          "height": 283
        }
      },
      "source": [
        "#plotting the number of recommendations against recall and precision.\n",
        "Rec=[]\n",
        "Precision=[]\n",
        "Recall=[]\n",
        "for i in range(0,9):\n",
        "    Rec.append(results[i]['K'])\n",
        "    Precision.append(results[i]['Precision'])\n",
        "    Recall.append(results[i]['Recall'])\n",
        "\n",
        "from matplotlib import pyplot as plt\n",
        "#plotting the precision\n",
        "plt.plot(Rec, Precision)\n",
        "plt.xlabel('# of Recommendations')\n",
        "plt.ylabel('Precision')\n",
        "plt2 = plt.twinx()\n",
        "#plotting recall\n",
        "plt2.plot(Rec, Recall, 'r')\n",
        "plt.ylabel('Recall')\n",
        "for tl in plt2.get_yticklabels():\n",
        "    tl.set_color('r')"
      ],
      "execution_count": 102,
      "outputs": [
        {
          "output_type": "display_data",
          "data": {
            "image/png": "[encoded data removed]",
            "text/plain": [
              "<Figure size 432x288 with 2 Axes>"
            ]
          },
          "metadata": {
            "tags": [],
            "needs_background": "light"
          }
        }
      ]
    },
    {
      "cell_type": "markdown",
      "metadata": {
        "id": "nk_RKEEzNd-X"
      },
      "source": [
        "From the above graph, we can observe that the precision drops significantly when K=6. Therfore, we'll consider our optimal number of recommendations to be 6.\n",
        "\n",
        "Having the optiumum number of movies to recommend, the next step is to give recommendation to the users. Therefore, we have to predict ratings for the movies which the user has not yet watched."
      ]
    },
    {
      "cell_type": "code",
      "metadata": {
        "id": "-BSZsrZxCj7G",
        "outputId": "6770ac41-5b97-4242-ee86-2f5c570ad1ee",
        "colab": {
          "base_uri": "https://localhost:8080/"
        }
      },
      "source": [
        "#training the SVD algorithm on the entire daatset with the movie titles and genre\n",
        "data = Dataset.load_builtin('ml-100k')\n",
        "trainset = data.build_full_trainset()   #Build on entire data set\n",
        "algo = SVD(n_factors=factors, n_epochs=epochs, lr_all=lr_value, reg_all=reg_value)\n",
        "algo.fit(trainset)"
      ],
      "execution_count": 146,
      "outputs": [
        {
          "output_type": "execute_result",
          "data": {
            "text/plain": [
              "<surprise.prediction_algorithms.matrix_factorization.SVD at 0x7f70ae560828>"
            ]
          },
          "metadata": {
            "tags": []
          },
          "execution_count": 146
        }
      ]
    },
    {
      "cell_type": "code",
      "metadata": {
        "id": "ca62AuIPCkDg"
      },
      "source": [
        "#predicting the ratings for all pairs of (users and items) that are not in the training set\n",
        "testset = trainset.build_anti_testset()\n",
        "\n",
        "#Predicting the ratings for testset\n",
        "predictions = algo.test(testset)"
      ],
      "execution_count": 147,
      "outputs": []
    },
    {
      "cell_type": "code",
      "metadata": {
        "id": "Bic2BsNoj9MF",
        "outputId": "58620375-b023-47b5-9c32-7cef99c8ebfc",
        "colab": {
          "base_uri": "https://localhost:8080/"
        }
      },
      "source": [
        "#model evaluation\n",
        "accuracy.rmse(predictions)"
      ],
      "execution_count": 191,
      "outputs": [
        {
          "output_type": "stream",
          "text": [
            "RMSE: 0.6331\n"
          ],
          "name": "stdout"
        },
        {
          "output_type": "execute_result",
          "data": {
            "text/plain": [
              "0.6330593789009233"
            ]
          },
          "metadata": {
            "tags": []
          },
          "execution_count": 191
        }
      ]
    },
    {
      "cell_type": "code",
      "metadata": {
        "id": "nfphxZTiCkAk"
      },
      "source": [
        "#sorting the ratings\n",
        "def get_all_predictions(predictions):\n",
        "    \n",
        "    # First map the predictions to each user.\n",
        "    top_n = defaultdict(list)    \n",
        "    for uid, iid, true_r, est, _ in predictions:\n",
        "        top_n[uid].append((iid, est))\n",
        "\n",
        "    # Then sort the predictions for each user\n",
        "    for uid, user_ratings in top_n.items():\n",
        "        user_ratings.sort(key=lambda x: x[1], reverse=True)\n",
        "\n",
        "    return top_n"
      ],
      "execution_count": 149,
      "outputs": []
    },
    {
      "cell_type": "code",
      "metadata": {
        "id": "zQcRAIQ5Cj-9"
      },
      "source": [
        "#all predictions\n",
        "all_pred = get_all_predictions(predictions)"
      ],
      "execution_count": 150,
      "outputs": []
    },
    {
      "cell_type": "code",
      "metadata": {
        "id": "fp_rUeDxCjxr"
      },
      "source": [
        "#Getting the top 6 movies,K=6\n",
        "n = 6\n",
        "for uid, user_ratings in all_pred.items():\n",
        "    user_ratings.sort(key=lambda x: x[1], reverse=True)\n",
        "    all_pred[uid] = user_ratings[:n]"
      ],
      "execution_count": 151,
      "outputs": []
    },
    {
      "cell_type": "code",
      "metadata": {
        "id": "hoIBlqCrCjqG",
        "outputId": "42dcf8a5-e910-4771-b84f-96775e2c4651",
        "colab": {
          "base_uri": "https://localhost:8080/",
          "height": 194
        }
      },
      "source": [
        "# creating a dataframe for allpreds\n",
        "tmp = pd.DataFrame.from_dict(all_pred)\n",
        "tmp.head(2)"
      ],
      "execution_count": 152,
      "outputs": [
        {
          "output_type": "execute_result",
          "data": {
            "text/html": [
              "<div>\n",
              "<style scoped>\n",
              "    .dataframe tbody tr th:only-of-type {\n",
              "        vertical-align: middle;\n",
              "    }\n",
              "\n",
              "    .dataframe tbody tr th {\n",
              "        vertical-align: top;\n",
              "    }\n",
              "\n",
              "    .dataframe thead th {\n",
              "        text-align: right;\n",
              "    }\n",
              "</style>\n",
              "<table border=\"1\" class=\"dataframe\">\n",
              "  <thead>\n",
              "    <tr style=\"text-align: right;\">\n",
              "      <th></th>\n",
              "      <th>196</th>\n",
              "      <th>186</th>\n",
              "      <th>22</th>\n",
              "      <th>244</th>\n",
              "      <th>166</th>\n",
              "      <th>298</th>\n",
              "      <th>115</th>\n",
              "      <th>253</th>\n",
              "      <th>305</th>\n",
              "      <th>6</th>\n",
              "      <th>62</th>\n",
              "      <th>286</th>\n",
              "      <th>200</th>\n",
              "      <th>210</th>\n",
              "      <th>224</th>\n",
              "      <th>303</th>\n",
              "      <th>122</th>\n",
              "      <th>194</th>\n",
              "      <th>291</th>\n",
              "      <th>234</th>\n",
              "      <th>119</th>\n",
              "      <th>167</th>\n",
              "      <th>299</th>\n",
              "      <th>308</th>\n",
              "      <th>95</th>\n",
              "      <th>38</th>\n",
              "      <th>102</th>\n",
              "      <th>63</th>\n",
              "      <th>160</th>\n",
              "      <th>50</th>\n",
              "      <th>301</th>\n",
              "      <th>225</th>\n",
              "      <th>290</th>\n",
              "      <th>97</th>\n",
              "      <th>157</th>\n",
              "      <th>181</th>\n",
              "      <th>278</th>\n",
              "      <th>276</th>\n",
              "      <th>7</th>\n",
              "      <th>10</th>\n",
              "      <th>...</th>\n",
              "      <th>895</th>\n",
              "      <th>906</th>\n",
              "      <th>900</th>\n",
              "      <th>908</th>\n",
              "      <th>916</th>\n",
              "      <th>911</th>\n",
              "      <th>912</th>\n",
              "      <th>914</th>\n",
              "      <th>918</th>\n",
              "      <th>919</th>\n",
              "      <th>921</th>\n",
              "      <th>910</th>\n",
              "      <th>913</th>\n",
              "      <th>915</th>\n",
              "      <th>922</th>\n",
              "      <th>923</th>\n",
              "      <th>928</th>\n",
              "      <th>927</th>\n",
              "      <th>924</th>\n",
              "      <th>929</th>\n",
              "      <th>931</th>\n",
              "      <th>917</th>\n",
              "      <th>932</th>\n",
              "      <th>909</th>\n",
              "      <th>934</th>\n",
              "      <th>933</th>\n",
              "      <th>935</th>\n",
              "      <th>938</th>\n",
              "      <th>940</th>\n",
              "      <th>888</th>\n",
              "      <th>925</th>\n",
              "      <th>942</th>\n",
              "      <th>937</th>\n",
              "      <th>926</th>\n",
              "      <th>943</th>\n",
              "      <th>939</th>\n",
              "      <th>936</th>\n",
              "      <th>930</th>\n",
              "      <th>920</th>\n",
              "      <th>941</th>\n",
              "    </tr>\n",
              "  </thead>\n",
              "  <tbody>\n",
              "    <tr>\n",
              "      <th>0</th>\n",
              "      <td>(1449, 4.548167357959338)</td>\n",
              "      <td>(1449, 4.51049304507169)</td>\n",
              "      <td>(357, 4.694175851738358)</td>\n",
              "      <td>(127, 4.860296869523846)</td>\n",
              "      <td>(174, 4.762437114247539)</td>\n",
              "      <td>(1449, 4.760490328732902)</td>\n",
              "      <td>(179, 4.994427236447383)</td>\n",
              "      <td>(174, 4.690218690207548)</td>\n",
              "      <td>(1449, 4.291956908356786)</td>\n",
              "      <td>(1449, 4.350290308859978)</td>\n",
              "      <td>(408, 4.374318766302123)</td>\n",
              "      <td>(1449, 4.960376155645555)</td>\n",
              "      <td>(1449, 5)</td>\n",
              "      <td>(1449, 4.928278208857879)</td>\n",
              "      <td>(174, 4.196458419058281)</td>\n",
              "      <td>(1449, 4.669651050870197)</td>\n",
              "      <td>(1449, 4.778807244700173)</td>\n",
              "      <td>(1449, 4.001353706085731)</td>\n",
              "      <td>(169, 4.92917090987714)</td>\n",
              "      <td>(408, 3.9690213692608136)</td>\n",
              "      <td>(1449, 4.884296350562099)</td>\n",
              "      <td>(1449, 4.495330954913992)</td>\n",
              "      <td>(1449, 4.41518209383194)</td>\n",
              "      <td>(1449, 4.733709412969011)</td>\n",
              "      <td>(318, 4.5285404585706335)</td>\n",
              "      <td>(143, 5)</td>\n",
              "      <td>(1449, 3.8045105408843094)</td>\n",
              "      <td>(1449, 4.248150319943274)</td>\n",
              "      <td>(1449, 4.814540730823887)</td>\n",
              "      <td>(1449, 4.5755509351729655)</td>\n",
              "      <td>(169, 4.504325941521384)</td>\n",
              "      <td>(408, 5)</td>\n",
              "      <td>(313, 4.206480600406568)</td>\n",
              "      <td>(1449, 4.660726992483971)</td>\n",
              "      <td>(318, 4.905810956382338)</td>\n",
              "      <td>(313, 3.030144095202606)</td>\n",
              "      <td>(1449, 4.993322220496063)</td>\n",
              "      <td>(1449, 4.68029111996645)</td>\n",
              "      <td>(1449, 4.956794156672521)</td>\n",
              "      <td>(1449, 4.936230944609473)</td>\n",
              "      <td>...</td>\n",
              "      <td>(408, 4.820500083676069)</td>\n",
              "      <td>(1449, 4.817503176584514)</td>\n",
              "      <td>(1449, 3.587226203103974)</td>\n",
              "      <td>(1449, 4.228140161626313)</td>\n",
              "      <td>(1449, 4.508333568736594)</td>\n",
              "      <td>(1449, 4.670726478353418)</td>\n",
              "      <td>(1449, 4.453800647991633)</td>\n",
              "      <td>(1449, 4.234504339147412)</td>\n",
              "      <td>(1449, 4.150457077154214)</td>\n",
              "      <td>(1449, 4.579905884401838)</td>\n",
              "      <td>(1449, 4.177503979241791)</td>\n",
              "      <td>(1449, 4.160086951605724)</td>\n",
              "      <td>(1449, 4.288472073928596)</td>\n",
              "      <td>(318, 4.061758026072446)</td>\n",
              "      <td>(318, 4.402555412697584)</td>\n",
              "      <td>(474, 5)</td>\n",
              "      <td>(474, 5)</td>\n",
              "      <td>(1449, 4.721568345813297)</td>\n",
              "      <td>(1449, 4.442567764360825)</td>\n",
              "      <td>(1449, 4.2456718004973615)</td>\n",
              "      <td>(318, 4.640189853307916)</td>\n",
              "      <td>(408, 4.6656998565903205)</td>\n",
              "      <td>(408, 4.719392801025256)</td>\n",
              "      <td>(483, 5)</td>\n",
              "      <td>(64, 4.494680120713434)</td>\n",
              "      <td>(408, 3.820085875586316)</td>\n",
              "      <td>(1449, 4.807359452232617)</td>\n",
              "      <td>(174, 4.5587804336830455)</td>\n",
              "      <td>(1449, 4.301249775892012)</td>\n",
              "      <td>(408, 5)</td>\n",
              "      <td>(1449, 4.416398148516605)</td>\n",
              "      <td>(64, 5)</td>\n",
              "      <td>(1449, 4.207431666253267)</td>\n",
              "      <td>(408, 4.284014290611213)</td>\n",
              "      <td>(1449, 4.449399905216067)</td>\n",
              "      <td>(98, 5)</td>\n",
              "      <td>(1449, 4.9536404759382116)</td>\n",
              "      <td>(1449, 3.9162986106764275)</td>\n",
              "      <td>(169, 4.263163307099551)</td>\n",
              "      <td>(1449, 4.843074931998053)</td>\n",
              "    </tr>\n",
              "    <tr>\n",
              "      <th>1</th>\n",
              "      <td>(169, 4.431226571470888)</td>\n",
              "      <td>(174, 4.501913707864521)</td>\n",
              "      <td>(318, 4.67749219945764)</td>\n",
              "      <td>(1449, 4.827293165843654)</td>\n",
              "      <td>(50, 4.697575907346352)</td>\n",
              "      <td>(64, 4.71564867589394)</td>\n",
              "      <td>(408, 4.88120257533561)</td>\n",
              "      <td>(1449, 4.6349312826076)</td>\n",
              "      <td>(603, 4.041136785651521)</td>\n",
              "      <td>(603, 4.230485379374268)</td>\n",
              "      <td>(169, 4.314234220767449)</td>\n",
              "      <td>(318, 4.7377613681319035)</td>\n",
              "      <td>(64, 4.958181534131046)</td>\n",
              "      <td>(318, 4.8584694043327)</td>\n",
              "      <td>(64, 4.120727589083047)</td>\n",
              "      <td>(180, 4.572749409645796)</td>\n",
              "      <td>(169, 4.707957034307114)</td>\n",
              "      <td>(169, 3.9343893543069233)</td>\n",
              "      <td>(1449, 4.915319288998331)</td>\n",
              "      <td>(169, 3.894721444180295)</td>\n",
              "      <td>(408, 4.803658227741258)</td>\n",
              "      <td>(64, 4.398692761181647)</td>\n",
              "      <td>(64, 4.2244027062151766)</td>\n",
              "      <td>(114, 4.6717741081950095)</td>\n",
              "      <td>(1449, 4.375092427831901)</td>\n",
              "      <td>(966, 4.868711829928769)</td>\n",
              "      <td>(408, 3.7086681607831036)</td>\n",
              "      <td>(169, 4.169277499746241)</td>\n",
              "      <td>(134, 4.659749473750155)</td>\n",
              "      <td>(318, 4.428356905819597)</td>\n",
              "      <td>(1449, 4.4505441481276895)</td>\n",
              "      <td>(169, 5)</td>\n",
              "      <td>(1449, 4.2051575623616495)</td>\n",
              "      <td>(64, 4.5548294708963555)</td>\n",
              "      <td>(169, 4.834074237363111)</td>\n",
              "      <td>(318, 2.929764461315576)</td>\n",
              "      <td>(318, 4.903767350223366)</td>\n",
              "      <td>(114, 4.648098764653428)</td>\n",
              "      <td>(408, 4.80878848142554)</td>\n",
              "      <td>(318, 4.8826805726767155)</td>\n",
              "      <td>...</td>\n",
              "      <td>(1449, 4.815703868079714)</td>\n",
              "      <td>(318, 4.698831985176859)</td>\n",
              "      <td>(64, 3.4774369726309233)</td>\n",
              "      <td>(64, 4.124069437651888)</td>\n",
              "      <td>(127, 4.470525314788033)</td>\n",
              "      <td>(169, 4.579117868233857)</td>\n",
              "      <td>(408, 4.283102388344217)</td>\n",
              "      <td>(169, 4.2208652062241905)</td>\n",
              "      <td>(408, 4.123396667348451)</td>\n",
              "      <td>(169, 4.404561701012058)</td>\n",
              "      <td>(64, 4.125482762270667)</td>\n",
              "      <td>(64, 4.116144099290363)</td>\n",
              "      <td>(178, 4.136622927717299)</td>\n",
              "      <td>(408, 4.059357772051258)</td>\n",
              "      <td>(1449, 4.3048413435273)</td>\n",
              "      <td>(603, 5)</td>\n",
              "      <td>(603, 5)</td>\n",
              "      <td>(408, 4.583869512816733)</td>\n",
              "      <td>(483, 4.317873637460595)</td>\n",
              "      <td>(64, 4.140683047534146)</td>\n",
              "      <td>(1449, 4.590337632108459)</td>\n",
              "      <td>(1449, 4.6441693252932295)</td>\n",
              "      <td>(127, 4.700078890549816)</td>\n",
              "      <td>(408, 5)</td>\n",
              "      <td>(408, 4.4426785836975045)</td>\n",
              "      <td>(1449, 3.7928685457819653)</td>\n",
              "      <td>(64, 4.741234376080545)</td>\n",
              "      <td>(172, 4.552160310903871)</td>\n",
              "      <td>(64, 4.253996157832901)</td>\n",
              "      <td>(318, 5)</td>\n",
              "      <td>(313, 4.298262724778194)</td>\n",
              "      <td>(1449, 5)</td>\n",
              "      <td>(169, 4.136627237160429)</td>\n",
              "      <td>(1449, 4.266552524594466)</td>\n",
              "      <td>(169, 4.373050434687284)</td>\n",
              "      <td>(603, 5)</td>\n",
              "      <td>(408, 4.831670568584707)</td>\n",
              "      <td>(318, 3.8744959998169746)</td>\n",
              "      <td>(1449, 4.181068529570583)</td>\n",
              "      <td>(169, 4.802694771858774)</td>\n",
              "    </tr>\n",
              "  </tbody>\n",
              "</table>\n",
              "<p>2 rows × 943 columns</p>\n",
              "</div>"
            ],
            "text/plain": [
              "                         196  ...                        941\n",
              "0  (1449, 4.548167357959338)  ...  (1449, 4.843074931998053)\n",
              "1   (169, 4.431226571470888)  ...   (169, 4.802694771858774)\n",
              "\n",
              "[2 rows x 943 columns]"
            ]
          },
          "metadata": {
            "tags": []
          },
          "execution_count": 152
        }
      ]
    },
    {
      "cell_type": "code",
      "metadata": {
        "id": "RoitHAO4SjeP",
        "outputId": "7c7a0ecb-5554-4bf3-8cb0-a616995fd4d0",
        "colab": {
          "base_uri": "https://localhost:8080/",
          "height": 309
        }
      },
      "source": [
        "#transpose\n",
        "tmp_transpose = tmp.transpose()\n",
        "tmp_transpose.head()\n"
      ],
      "execution_count": 177,
      "outputs": [
        {
          "output_type": "execute_result",
          "data": {
            "text/html": [
              "<div>\n",
              "<style scoped>\n",
              "    .dataframe tbody tr th:only-of-type {\n",
              "        vertical-align: middle;\n",
              "    }\n",
              "\n",
              "    .dataframe tbody tr th {\n",
              "        vertical-align: top;\n",
              "    }\n",
              "\n",
              "    .dataframe thead th {\n",
              "        text-align: right;\n",
              "    }\n",
              "</style>\n",
              "<table border=\"1\" class=\"dataframe\">\n",
              "  <thead>\n",
              "    <tr style=\"text-align: right;\">\n",
              "      <th></th>\n",
              "      <th>0</th>\n",
              "      <th>1</th>\n",
              "      <th>2</th>\n",
              "      <th>3</th>\n",
              "      <th>4</th>\n",
              "      <th>5</th>\n",
              "    </tr>\n",
              "  </thead>\n",
              "  <tbody>\n",
              "    <tr>\n",
              "      <th>196</th>\n",
              "      <td>(1449, 4.548167357959338)</td>\n",
              "      <td>(169, 4.431226571470888)</td>\n",
              "      <td>(408, 4.43033148547254)</td>\n",
              "      <td>(64, 4.358736803992443)</td>\n",
              "      <td>(318, 4.354213534891502)</td>\n",
              "      <td>(114, 4.3524064566305185)</td>\n",
              "    </tr>\n",
              "    <tr>\n",
              "      <th>186</th>\n",
              "      <td>(1449, 4.51049304507169)</td>\n",
              "      <td>(174, 4.501913707864521)</td>\n",
              "      <td>(64, 4.473351714581163)</td>\n",
              "      <td>(22, 4.414192188435609)</td>\n",
              "      <td>(318, 4.384096707378675)</td>\n",
              "      <td>(408, 4.368121856623893)</td>\n",
              "    </tr>\n",
              "    <tr>\n",
              "      <th>22</th>\n",
              "      <td>(357, 4.694175851738358)</td>\n",
              "      <td>(318, 4.67749219945764)</td>\n",
              "      <td>(169, 4.593715105327577)</td>\n",
              "      <td>(408, 4.566423868979636)</td>\n",
              "      <td>(302, 4.564486402655507)</td>\n",
              "      <td>(483, 4.510742157820108)</td>\n",
              "    </tr>\n",
              "    <tr>\n",
              "      <th>244</th>\n",
              "      <td>(127, 4.860296869523846)</td>\n",
              "      <td>(1449, 4.827293165843654)</td>\n",
              "      <td>(408, 4.759797840159388)</td>\n",
              "      <td>(134, 4.7462285107860875)</td>\n",
              "      <td>(474, 4.734563886301147)</td>\n",
              "      <td>(178, 4.718694994472022)</td>\n",
              "    </tr>\n",
              "    <tr>\n",
              "      <th>166</th>\n",
              "      <td>(174, 4.762437114247539)</td>\n",
              "      <td>(50, 4.697575907346352)</td>\n",
              "      <td>(318, 4.641165849507214)</td>\n",
              "      <td>(22, 4.631902194305563)</td>\n",
              "      <td>(172, 4.605645646597172)</td>\n",
              "      <td>(64, 4.597940205434604)</td>\n",
              "    </tr>\n",
              "  </tbody>\n",
              "</table>\n",
              "</div>"
            ],
            "text/plain": [
              "                             0  ...                          5\n",
              "196  (1449, 4.548167357959338)  ...  (114, 4.3524064566305185)\n",
              "186   (1449, 4.51049304507169)  ...   (408, 4.368121856623893)\n",
              "22    (357, 4.694175851738358)  ...   (483, 4.510742157820108)\n",
              "244   (127, 4.860296869523846)  ...   (178, 4.718694994472022)\n",
              "166   (174, 4.762437114247539)  ...    (64, 4.597940205434604)\n",
              "\n",
              "[5 rows x 6 columns]"
            ]
          },
          "metadata": {
            "tags": []
          },
          "execution_count": 177
        }
      ]
    },
    {
      "cell_type": "code",
      "metadata": {
        "id": "SYljAXL4d-3D",
        "outputId": "c93e60bd-02af-4051-9318-13a20677a81c",
        "colab": {
          "base_uri": "https://localhost:8080/"
        }
      },
      "source": [
        "tmp_transpose.info()"
      ],
      "execution_count": 169,
      "outputs": [
        {
          "output_type": "stream",
          "text": [
            "<class 'pandas.core.frame.DataFrame'>\n",
            "Index: 943 entries, 196 to 941\n",
            "Data columns (total 6 columns):\n",
            " #   Column  Non-Null Count  Dtype \n",
            "---  ------  --------------  ----- \n",
            " 0   0       943 non-null    object\n",
            " 1   1       943 non-null    object\n",
            " 2   2       943 non-null    object\n",
            " 3   3       943 non-null    object\n",
            " 4   4       943 non-null    object\n",
            " 5   5       943 non-null    object\n",
            "dtypes: object(6)\n",
            "memory usage: 91.6+ KB\n"
          ],
          "name": "stdout"
        }
      ]
    },
    {
      "cell_type": "code",
      "metadata": {
        "id": "f6OoA73USjbo"
      },
      "source": [
        "# creating a function for querrying the movie recommendations\n",
        "def get_predictions(user_id):\n",
        "    results = tmp_transpose.loc[user_id]\n",
        "    return results"
      ],
      "execution_count": 154,
      "outputs": []
    },
    {
      "cell_type": "code",
      "metadata": {
        "id": "G_8Z0NJfS5p2",
        "outputId": "ed1fa58c-bcd7-4e42-bd71-e53c63b1fced",
        "colab": {
          "base_uri": "https://localhost:8080/"
        }
      },
      "source": [
        "#testing the function\n",
        "user_id='196'\n",
        "results = get_predictions(user_id)\n",
        "results"
      ],
      "execution_count": 155,
      "outputs": [
        {
          "output_type": "execute_result",
          "data": {
            "text/plain": [
              "0    (1449, 4.548167357959338)\n",
              "1     (169, 4.431226571470888)\n",
              "2      (408, 4.43033148547254)\n",
              "3      (64, 4.358736803992443)\n",
              "4     (318, 4.354213534891502)\n",
              "5    (114, 4.3524064566305185)\n",
              "Name: 196, dtype: object"
            ]
          },
          "metadata": {
            "tags": []
          },
          "execution_count": 155
        }
      ]
    },
    {
      "cell_type": "markdown",
      "metadata": {
        "id": "salKu0a-VaU7"
      },
      "source": [
        "The above results are the movie recommendations for user 196. The tuple contains the Movie_Id and the predicted rating. Since we just need the movie_id, we'll need to extract this from the results. "
      ]
    },
    {
      "cell_type": "code",
      "metadata": {
        "id": "AG_OTJ30S50E"
      },
      "source": [
        "#redefiing the function\n",
        "recommended_movie_ids=[] #function for holding the movie_ids\n",
        "def get_predictions(user_id):\n",
        "    results = tmp_transpose.loc[user_id]\n",
        "    #iterating through the recommendations\n",
        "    for x in range(0, n):\n",
        "      recommended_movie_ids.append(results[x][0])\n",
        "    return recommended_movie_ids\n"
      ],
      "execution_count": 156,
      "outputs": []
    },
    {
      "cell_type": "code",
      "metadata": {
        "id": "lMb0X0pQS574",
        "outputId": "e2e72fe6-5c5b-4840-8f15-6a462666a971",
        "colab": {
          "base_uri": "https://localhost:8080/"
        }
      },
      "source": [
        "get_predictions('196')"
      ],
      "execution_count": 157,
      "outputs": [
        {
          "output_type": "execute_result",
          "data": {
            "text/plain": [
              "['1449', '169', '408', '64', '318', '114']"
            ]
          },
          "metadata": {
            "tags": []
          },
          "execution_count": 157
        }
      ]
    },
    {
      "cell_type": "code",
      "metadata": {
        "id": "d8tfvWfaS6MS",
        "outputId": "4e2d9aa7-3086-4c33-d0d7-5c43fdccfa84",
        "colab": {
          "base_uri": "https://localhost:8080/",
          "height": 204
        }
      },
      "source": [
        "#getting the movie details\n",
        "movie_titles.head()"
      ],
      "execution_count": 158,
      "outputs": [
        {
          "output_type": "execute_result",
          "data": {
            "text/html": [
              "<div>\n",
              "<style scoped>\n",
              "    .dataframe tbody tr th:only-of-type {\n",
              "        vertical-align: middle;\n",
              "    }\n",
              "\n",
              "    .dataframe tbody tr th {\n",
              "        vertical-align: top;\n",
              "    }\n",
              "\n",
              "    .dataframe thead th {\n",
              "        text-align: right;\n",
              "    }\n",
              "</style>\n",
              "<table border=\"1\" class=\"dataframe\">\n",
              "  <thead>\n",
              "    <tr style=\"text-align: right;\">\n",
              "      <th></th>\n",
              "      <th>movieId</th>\n",
              "      <th>title</th>\n",
              "      <th>genres</th>\n",
              "    </tr>\n",
              "  </thead>\n",
              "  <tbody>\n",
              "    <tr>\n",
              "      <th>0</th>\n",
              "      <td>1</td>\n",
              "      <td>Toy Story (1995)</td>\n",
              "      <td>Adventure|Animation|Children|Comedy|Fantasy</td>\n",
              "    </tr>\n",
              "    <tr>\n",
              "      <th>1</th>\n",
              "      <td>2</td>\n",
              "      <td>Jumanji (1995)</td>\n",
              "      <td>Adventure|Children|Fantasy</td>\n",
              "    </tr>\n",
              "    <tr>\n",
              "      <th>2</th>\n",
              "      <td>3</td>\n",
              "      <td>Grumpier Old Men (1995)</td>\n",
              "      <td>Comedy|Romance</td>\n",
              "    </tr>\n",
              "    <tr>\n",
              "      <th>3</th>\n",
              "      <td>4</td>\n",
              "      <td>Waiting to Exhale (1995)</td>\n",
              "      <td>Comedy|Drama|Romance</td>\n",
              "    </tr>\n",
              "    <tr>\n",
              "      <th>4</th>\n",
              "      <td>5</td>\n",
              "      <td>Father of the Bride Part II (1995)</td>\n",
              "      <td>Comedy</td>\n",
              "    </tr>\n",
              "  </tbody>\n",
              "</table>\n",
              "</div>"
            ],
            "text/plain": [
              "   movieId  ...                                       genres\n",
              "0        1  ...  Adventure|Animation|Children|Comedy|Fantasy\n",
              "1        2  ...                   Adventure|Children|Fantasy\n",
              "2        3  ...                               Comedy|Romance\n",
              "3        4  ...                         Comedy|Drama|Romance\n",
              "4        5  ...                                       Comedy\n",
              "\n",
              "[5 rows x 3 columns]"
            ]
          },
          "metadata": {
            "tags": []
          },
          "execution_count": 158
        }
      ]
    },
    {
      "cell_type": "code",
      "metadata": {
        "id": "6CejEj8_S53g"
      },
      "source": [
        "#redefining the funtion to return the movie_titles\n",
        "def get_predictions(user_id):\n",
        "    \"\"\"\n",
        "    args:\n",
        "      user_id : the index, with a string datatype\n",
        "    \"\"\"\n",
        "    recommended_movie_ids=[] #function for holding the movie_ids\n",
        "    results = tmp_transpose.loc[user_id]\n",
        "    #iterating through the recommendations\n",
        "    for x in range(0, n):\n",
        "      recommended_movie_ids.append(results[x][0])\n",
        "    recommended_movies = movie_titles[movie_titles['movieId'].isin(recommended_movie_ids)]\n",
        "    return recommended_movies"
      ],
      "execution_count": 159,
      "outputs": []
    },
    {
      "cell_type": "code",
      "metadata": {
        "id": "PzxXc8QvS5vu",
        "outputId": "e3a097a4-a7b4-410d-9dae-3f80cbac4ab4",
        "colab": {
          "base_uri": "https://localhost:8080/",
          "height": 204
        }
      },
      "source": [
        "get_predictions('196')"
      ],
      "execution_count": 188,
      "outputs": [
        {
          "output_type": "execute_result",
          "data": {
            "text/html": [
              "<div>\n",
              "<style scoped>\n",
              "    .dataframe tbody tr th:only-of-type {\n",
              "        vertical-align: middle;\n",
              "    }\n",
              "\n",
              "    .dataframe tbody tr th {\n",
              "        vertical-align: top;\n",
              "    }\n",
              "\n",
              "    .dataframe thead th {\n",
              "        text-align: right;\n",
              "    }\n",
              "</style>\n",
              "<table border=\"1\" class=\"dataframe\">\n",
              "  <thead>\n",
              "    <tr style=\"text-align: right;\">\n",
              "      <th></th>\n",
              "      <th>movieId</th>\n",
              "      <th>title</th>\n",
              "      <th>genres</th>\n",
              "    </tr>\n",
              "  </thead>\n",
              "  <tbody>\n",
              "    <tr>\n",
              "      <th>57</th>\n",
              "      <td>64</td>\n",
              "      <td>Two if by Sea (1996)</td>\n",
              "      <td>Comedy|Romance</td>\n",
              "    </tr>\n",
              "    <tr>\n",
              "      <th>141</th>\n",
              "      <td>169</td>\n",
              "      <td>Free Willy 2: The Adventure Home (1995)</td>\n",
              "      <td>Adventure|Children|Drama</td>\n",
              "    </tr>\n",
              "    <tr>\n",
              "      <th>277</th>\n",
              "      <td>318</td>\n",
              "      <td>Shawshank Redemption, The (1994)</td>\n",
              "      <td>Crime|Drama</td>\n",
              "    </tr>\n",
              "    <tr>\n",
              "      <th>353</th>\n",
              "      <td>408</td>\n",
              "      <td>8 Seconds (1994)</td>\n",
              "      <td>Drama</td>\n",
              "    </tr>\n",
              "    <tr>\n",
              "      <th>1113</th>\n",
              "      <td>1449</td>\n",
              "      <td>Waiting for Guffman (1996)</td>\n",
              "      <td>Comedy</td>\n",
              "    </tr>\n",
              "  </tbody>\n",
              "</table>\n",
              "</div>"
            ],
            "text/plain": [
              "      movieId  ...                    genres\n",
              "57         64  ...            Comedy|Romance\n",
              "141       169  ...  Adventure|Children|Drama\n",
              "277       318  ...               Crime|Drama\n",
              "353       408  ...                     Drama\n",
              "1113     1449  ...                    Comedy\n",
              "\n",
              "[5 rows x 3 columns]"
            ]
          },
          "metadata": {
            "tags": []
          },
          "execution_count": 188
        }
      ]
    },
    {
      "cell_type": "markdown",
      "metadata": {
        "id": "hIgRZ-saaBnO"
      },
      "source": [
        "We can check the user's history to check whehther we are recommending the right movies."
      ]
    },
    {
      "cell_type": "code",
      "metadata": {
        "id": "2lpV4NnpS5mc"
      },
      "source": [
        "#defining function to get user history\n",
        "def get_history(user_id):\n",
        "  '''\n",
        "  args:\n",
        "    user_id: The user_id takes an interger value\n",
        "  '''\n",
        "  #the movies the user has watched before\n",
        "  temp = ratings_df[ratings_df['userId'] == user_id].sort_values('rating',ascending=False)\n",
        "  user_history = movie_titles[movie_titles['movieId'].isin(temp['movieId'])]\n",
        "  return user_history[:n] #return top n movies for the user\n"
      ],
      "execution_count": 186,
      "outputs": []
    },
    {
      "cell_type": "code",
      "metadata": {
        "id": "Iei2ykqbbPFV",
        "outputId": "3b2b56ff-adaa-47b7-ad1c-c45b5035c640",
        "colab": {
          "base_uri": "https://localhost:8080/",
          "height": 235
        }
      },
      "source": [
        "#checking the user's history\n",
        "get_history(196)"
      ],
      "execution_count": 187,
      "outputs": [
        {
          "output_type": "execute_result",
          "data": {
            "text/html": [
              "<div>\n",
              "<style scoped>\n",
              "    .dataframe tbody tr th:only-of-type {\n",
              "        vertical-align: middle;\n",
              "    }\n",
              "\n",
              "    .dataframe tbody tr th {\n",
              "        vertical-align: top;\n",
              "    }\n",
              "\n",
              "    .dataframe thead th {\n",
              "        text-align: right;\n",
              "    }\n",
              "</style>\n",
              "<table border=\"1\" class=\"dataframe\">\n",
              "  <thead>\n",
              "    <tr style=\"text-align: right;\">\n",
              "      <th></th>\n",
              "      <th>movieId</th>\n",
              "      <th>title</th>\n",
              "      <th>genres</th>\n",
              "    </tr>\n",
              "  </thead>\n",
              "  <tbody>\n",
              "    <tr>\n",
              "      <th>55</th>\n",
              "      <td>62</td>\n",
              "      <td>Mr. Holland's Opus (1995)</td>\n",
              "      <td>Drama</td>\n",
              "    </tr>\n",
              "    <tr>\n",
              "      <th>92</th>\n",
              "      <td>104</td>\n",
              "      <td>Happy Gilmore (1996)</td>\n",
              "      <td>Comedy</td>\n",
              "    </tr>\n",
              "    <tr>\n",
              "      <th>97</th>\n",
              "      <td>110</td>\n",
              "      <td>Braveheart (1995)</td>\n",
              "      <td>Action|Drama|War</td>\n",
              "    </tr>\n",
              "    <tr>\n",
              "      <th>123</th>\n",
              "      <td>150</td>\n",
              "      <td>Apollo 13 (1995)</td>\n",
              "      <td>Adventure|Drama|IMAX</td>\n",
              "    </tr>\n",
              "    <tr>\n",
              "      <th>322</th>\n",
              "      <td>364</td>\n",
              "      <td>Lion King, The (1994)</td>\n",
              "      <td>Adventure|Animation|Children|Drama|Musical|IMAX</td>\n",
              "    </tr>\n",
              "    <tr>\n",
              "      <th>398</th>\n",
              "      <td>457</td>\n",
              "      <td>Fugitive, The (1993)</td>\n",
              "      <td>Thriller</td>\n",
              "    </tr>\n",
              "  </tbody>\n",
              "</table>\n",
              "</div>"
            ],
            "text/plain": [
              "     movieId  ...                                           genres\n",
              "55        62  ...                                            Drama\n",
              "92       104  ...                                           Comedy\n",
              "97       110  ...                                 Action|Drama|War\n",
              "123      150  ...                             Adventure|Drama|IMAX\n",
              "322      364  ...  Adventure|Animation|Children|Drama|Musical|IMAX\n",
              "398      457  ...                                         Thriller\n",
              "\n",
              "[6 rows x 3 columns]"
            ]
          },
          "metadata": {
            "tags": []
          },
          "execution_count": 187
        }
      ]
    },
    {
      "cell_type": "markdown",
      "metadata": {
        "id": "ZOG3OBiqizkw"
      },
      "source": [
        "From the above, we can observe that the recurring genre in Drama, Comedy and Adventure. We can check for one more user. User 166"
      ]
    },
    {
      "cell_type": "code",
      "metadata": {
        "id": "nvVvwv56baYU",
        "outputId": "281eaf50-7d17-48bf-bac3-78d5a5320e2a",
        "colab": {
          "base_uri": "https://localhost:8080/",
          "height": 235
        }
      },
      "source": [
        "get_predictions('166')"
      ],
      "execution_count": 189,
      "outputs": [
        {
          "output_type": "execute_result",
          "data": {
            "text/html": [
              "<div>\n",
              "<style scoped>\n",
              "    .dataframe tbody tr th:only-of-type {\n",
              "        vertical-align: middle;\n",
              "    }\n",
              "\n",
              "    .dataframe tbody tr th {\n",
              "        vertical-align: top;\n",
              "    }\n",
              "\n",
              "    .dataframe thead th {\n",
              "        text-align: right;\n",
              "    }\n",
              "</style>\n",
              "<table border=\"1\" class=\"dataframe\">\n",
              "  <thead>\n",
              "    <tr style=\"text-align: right;\">\n",
              "      <th></th>\n",
              "      <th>movieId</th>\n",
              "      <th>title</th>\n",
              "      <th>genres</th>\n",
              "    </tr>\n",
              "  </thead>\n",
              "  <tbody>\n",
              "    <tr>\n",
              "      <th>21</th>\n",
              "      <td>22</td>\n",
              "      <td>Copycat (1995)</td>\n",
              "      <td>Crime|Drama|Horror|Mystery|Thriller</td>\n",
              "    </tr>\n",
              "    <tr>\n",
              "      <th>46</th>\n",
              "      <td>50</td>\n",
              "      <td>Usual Suspects, The (1995)</td>\n",
              "      <td>Crime|Mystery|Thriller</td>\n",
              "    </tr>\n",
              "    <tr>\n",
              "      <th>57</th>\n",
              "      <td>64</td>\n",
              "      <td>Two if by Sea (1996)</td>\n",
              "      <td>Comedy|Romance</td>\n",
              "    </tr>\n",
              "    <tr>\n",
              "      <th>144</th>\n",
              "      <td>172</td>\n",
              "      <td>Johnny Mnemonic (1995)</td>\n",
              "      <td>Action|Sci-Fi|Thriller</td>\n",
              "    </tr>\n",
              "    <tr>\n",
              "      <th>146</th>\n",
              "      <td>174</td>\n",
              "      <td>Jury Duty (1995)</td>\n",
              "      <td>Comedy</td>\n",
              "    </tr>\n",
              "    <tr>\n",
              "      <th>277</th>\n",
              "      <td>318</td>\n",
              "      <td>Shawshank Redemption, The (1994)</td>\n",
              "      <td>Crime|Drama</td>\n",
              "    </tr>\n",
              "  </tbody>\n",
              "</table>\n",
              "</div>"
            ],
            "text/plain": [
              "     movieId  ...                               genres\n",
              "21        22  ...  Crime|Drama|Horror|Mystery|Thriller\n",
              "46        50  ...               Crime|Mystery|Thriller\n",
              "57        64  ...                       Comedy|Romance\n",
              "144      172  ...               Action|Sci-Fi|Thriller\n",
              "146      174  ...                               Comedy\n",
              "277      318  ...                          Crime|Drama\n",
              "\n",
              "[6 rows x 3 columns]"
            ]
          },
          "metadata": {
            "tags": []
          },
          "execution_count": 189
        }
      ]
    },
    {
      "cell_type": "code",
      "metadata": {
        "id": "O8o59SX-g8u1",
        "outputId": "8175dacf-dd75-4b7d-f8d8-4715bf63b08d",
        "colab": {
          "base_uri": "https://localhost:8080/",
          "height": 252
        }
      },
      "source": [
        "#checking the user's history\n",
        "get_history(166)"
      ],
      "execution_count": 190,
      "outputs": [
        {
          "output_type": "execute_result",
          "data": {
            "text/html": [
              "<div>\n",
              "<style scoped>\n",
              "    .dataframe tbody tr th:only-of-type {\n",
              "        vertical-align: middle;\n",
              "    }\n",
              "\n",
              "    .dataframe tbody tr th {\n",
              "        vertical-align: top;\n",
              "    }\n",
              "\n",
              "    .dataframe thead th {\n",
              "        text-align: right;\n",
              "    }\n",
              "</style>\n",
              "<table border=\"1\" class=\"dataframe\">\n",
              "  <thead>\n",
              "    <tr style=\"text-align: right;\">\n",
              "      <th></th>\n",
              "      <th>movieId</th>\n",
              "      <th>title</th>\n",
              "      <th>genres</th>\n",
              "    </tr>\n",
              "  </thead>\n",
              "  <tbody>\n",
              "    <tr>\n",
              "      <th>0</th>\n",
              "      <td>1</td>\n",
              "      <td>Toy Story (1995)</td>\n",
              "      <td>Adventure|Animation|Children|Comedy|Fantasy</td>\n",
              "    </tr>\n",
              "    <tr>\n",
              "      <th>5</th>\n",
              "      <td>6</td>\n",
              "      <td>Heat (1995)</td>\n",
              "      <td>Action|Crime|Thriller</td>\n",
              "    </tr>\n",
              "    <tr>\n",
              "      <th>9</th>\n",
              "      <td>10</td>\n",
              "      <td>GoldenEye (1995)</td>\n",
              "      <td>Action|Adventure|Thriller</td>\n",
              "    </tr>\n",
              "    <tr>\n",
              "      <th>16</th>\n",
              "      <td>17</td>\n",
              "      <td>Sense and Sensibility (1995)</td>\n",
              "      <td>Drama|Romance</td>\n",
              "    </tr>\n",
              "    <tr>\n",
              "      <th>31</th>\n",
              "      <td>32</td>\n",
              "      <td>Twelve Monkeys (a.k.a. 12 Monkeys) (1995)</td>\n",
              "      <td>Mystery|Sci-Fi|Thriller</td>\n",
              "    </tr>\n",
              "    <tr>\n",
              "      <th>43</th>\n",
              "      <td>47</td>\n",
              "      <td>Seven (a.k.a. Se7en) (1995)</td>\n",
              "      <td>Mystery|Thriller</td>\n",
              "    </tr>\n",
              "  </tbody>\n",
              "</table>\n",
              "</div>"
            ],
            "text/plain": [
              "    movieId  ...                                       genres\n",
              "0         1  ...  Adventure|Animation|Children|Comedy|Fantasy\n",
              "5         6  ...                        Action|Crime|Thriller\n",
              "9        10  ...                    Action|Adventure|Thriller\n",
              "16       17  ...                                Drama|Romance\n",
              "31       32  ...                      Mystery|Sci-Fi|Thriller\n",
              "43       47  ...                             Mystery|Thriller\n",
              "\n",
              "[6 rows x 3 columns]"
            ]
          },
          "metadata": {
            "tags": []
          },
          "execution_count": 190
        }
      ]
    },
    {
      "cell_type": "markdown",
      "metadata": {
        "id": "AR1fNWZ5jYrA"
      },
      "source": [
        "The recurring genre in the above prediction and history is Thriller, which seems to have been predicted well.\n",
        "\n",
        "We can therefore conclude that the model performs quite well in recommending the movies a user might be interested in."
      ]
    },
    {
      "cell_type": "markdown",
      "metadata": {
        "id": "580hG0kbOKcM"
      },
      "source": [
        "**References**:\n",
        "1. https://medium.com/@m_n_malaeb/recall-and-precision-at-k-for-recommender-systems-618483226c54\n",
        "2. https://towardsdatascience.com/beyond-accuracy-precision-and-recall-3da06bea9f6c\n",
        "3. https://developers.google.com/machine-learning/crash-course/classification/precision-and-recall?hl=ru\n",
        "4.  https://surprise.readthedocs.io/en/stable/\n"
      ]
    }
  ]
}